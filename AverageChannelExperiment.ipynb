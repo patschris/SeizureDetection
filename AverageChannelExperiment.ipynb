{
 "cells": [
  {
   "cell_type": "code",
   "execution_count": null,
   "metadata": {},
   "outputs": [],
   "source": [
    "import time\n",
    "import numpy as np\n",
    "import pandas as pd\n",
    "import configparser\n",
    "import tensorflow as tf\n",
    "from sklearn import model_selection, utils"
   ]
  },
  {
   "cell_type": "code",
   "execution_count": null,
   "metadata": {},
   "outputs": [],
   "source": [
    "from ipynb.fs.full.ImportExportData import exportDataframeToCSV,importCsvToDataframe\n",
    "from ipynb.fs.full.EdfManipulation import read_and_store_data\n",
    "from ipynb.fs.full.ClassificationPerformanceIndexes import classificationPerformanceIndexes\n",
    "from ipynb.fs.full.FeatureClassificationMethods import *\n",
    "from ipynb.fs.full.FeatureComputation import averageChannels, featureExtractionAverage\n",
    "from ipynb.fs.full.FeatureNormalization import featureNormalization\n",
    "from ipynb.fs.full.FeatureSelection import dimentionalityReduction\n",
    "from ipynb.fs.full.DatasetBalancing import oversamplingSMOTE\n",
    "from ipynb.fs.full.SplitDataset import createTrainingAndTestDatasets"
   ]
  },
  {
   "cell_type": "markdown",
   "metadata": {},
   "source": [
    "#### Feature Extraction"
   ]
  },
  {
   "cell_type": "code",
   "execution_count": null,
   "metadata": {},
   "outputs": [],
   "source": [
    "def AverageChannelFeatures(df, readEdf, sample_rate, step, pca_tolerance, smote_neighbors, csvExportFile):\n",
    "    if readEdf:\n",
    "        ndf = averageChannels(df)\n",
    "        features = pd.DataFrame(featureExtractionAverage (ndf, sample_rate, step))\n",
    "        del ndf\n",
    "        features = featureNormalization(features)\n",
    "        reduced_features = dimentionalityReduction(features, pca_tolerance)\n",
    "        del features\n",
    "        smote_features = utils.shuffle(oversamplingSMOTE(reduced_features.drop('seizure', axis = 1), reduced_features['seizure'], smote_neighbors))\n",
    "        smote_features.reset_index(drop = True, inplace = True)\n",
    "        del reduced_features\n",
    "        exportDataframeToCSV(smote_features, csvExportFile)\n",
    "    else :\n",
    "        smote_features = df\n",
    "    return smote_features"
   ]
  },
  {
   "cell_type": "markdown",
   "metadata": {},
   "source": [
    "##### Create Training and Testing Data"
   ]
  },
  {
   "cell_type": "code",
   "execution_count": null,
   "metadata": {},
   "outputs": [],
   "source": [
    "def AverageChannelTrainTestData (smote_features, test_ratio, k_fold, perfInd):\n",
    "    train_dat, test_dat, train_ind, test_ind = createTrainingAndTestDatasets(smote_features, test_ratio)\n",
    "    results = pd.DataFrame(columns = perfInd)\n",
    "    kf = model_selection.KFold(n_splits = k_fold, shuffle=True)\n",
    "    return train_dat, test_dat, train_ind, test_ind, results, kf"
   ]
  },
  {
   "cell_type": "markdown",
   "metadata": {},
   "source": [
    "#### SVM"
   ]
  },
  {
   "cell_type": "code",
   "execution_count": null,
   "metadata": {},
   "outputs": [],
   "source": [
    "def AverageChannelSVM(train_dat, test_dat, train_ind, test_ind, results, smote_features, kf, perfInd):\n",
    "    print('Implementing SVM method...')\n",
    "    start = time.time()\n",
    "    SVM(train_dat, train_ind, test_dat, test_ind, results)\n",
    "    SVM_Kfold(smote_features, kf, perfInd, results)\n",
    "    end = time.time()\n",
    "    print('SVM finished in', round(end - start,2), 'sec\\n')"
   ]
  },
  {
   "cell_type": "markdown",
   "metadata": {},
   "source": [
    "#### KNN"
   ]
  },
  {
   "cell_type": "code",
   "execution_count": null,
   "metadata": {},
   "outputs": [],
   "source": [
    "def AverageChannelKNN(train_dat, test_dat, train_ind, test_ind, results, knn_neighbors, smote_features, kf, perfInd):\n",
    "    print('Implementing KNN method...')\n",
    "    start = time.time()\n",
    "    KNN(train_dat, train_ind, test_dat, test_ind, knn_neighbors, results)\n",
    "    KNN_Kfold(smote_features, knn_neighbors, kf, perfInd, results)\n",
    "    end = time.time()\n",
    "    print('KNN finished in', round(end - start,2),'sec\\n')"
   ]
  },
  {
   "cell_type": "markdown",
   "metadata": {},
   "source": [
    "#### Naive Bayes"
   ]
  },
  {
   "cell_type": "code",
   "execution_count": null,
   "metadata": {},
   "outputs": [],
   "source": [
    "def AverageChannelNB(train_dat, test_dat, train_ind, test_ind, results, smote_features, kf, perfInd):\n",
    "    print('Implementing Naive Bayes method...')\n",
    "    start = time.time()\n",
    "    NaiveBayes(train_dat, train_ind, test_dat, test_ind, results)\n",
    "    NaiveBayes_Kfold(smote_features, kf, perfInd, results)\n",
    "    end = time.time()\n",
    "    print('Naive Bayes finished in', round(end - start,2),'sec\\n')"
   ]
  },
  {
   "cell_type": "markdown",
   "metadata": {},
   "source": [
    "#### Decision Trees"
   ]
  },
  {
   "cell_type": "code",
   "execution_count": null,
   "metadata": {},
   "outputs": [],
   "source": [
    "def AverageChannelDT(train_dat, test_dat, train_ind, test_ind, results, smote_features, kf, perfInd):\n",
    "    print('Implementing Decision Trees method...')\n",
    "    start = time.time()\n",
    "    DecisionTrees(train_dat, train_ind, test_dat, test_ind, results)\n",
    "    DecisionTrees_Kfold(smote_features, kf, perfInd, results)\n",
    "    end = time.time()\n",
    "    print('Decision Trees finished in', round(end - start,2),'sec\\n')"
   ]
  },
  {
   "cell_type": "markdown",
   "metadata": {},
   "source": [
    "#### Random Forest"
   ]
  },
  {
   "cell_type": "code",
   "execution_count": null,
   "metadata": {},
   "outputs": [],
   "source": [
    "def AverageChannelRF(train_dat, test_dat, train_ind, test_ind, results, rf_estimators, smote_features, kf, perfInd):\n",
    "    print('Implementing Random Forest method...')\n",
    "    start = time.time()\n",
    "    RandomForest(train_dat, train_ind, test_dat, test_ind, rf_estimators, results)\n",
    "    RandomForest_Kfold(smote_features, rf_estimators, kf, perfInd, results)\n",
    "    end = time.time()\n",
    "    print('Random Forest finished in', round(end - start,2),'sec\\n')"
   ]
  },
  {
   "cell_type": "markdown",
   "metadata": {},
   "source": [
    "#### LDA"
   ]
  },
  {
   "cell_type": "code",
   "execution_count": null,
   "metadata": {},
   "outputs": [],
   "source": [
    "def AverageChannelLDA(train_dat, test_dat, train_ind, test_ind, results, smote_features, kf, perfInd):\n",
    "    print('Implementing LDA method...')\n",
    "    start = time.time()\n",
    "    LDA(train_dat, train_ind, test_dat, test_ind, results)\n",
    "    LDA_Kfold(smote_features, kf, perfInd, results)\n",
    "    end = time.time()\n",
    "    print('LDA finished in', round(end - start,2),'sec\\n')"
   ]
  },
  {
   "cell_type": "markdown",
   "metadata": {},
   "source": [
    "#### Logistic Regression"
   ]
  },
  {
   "cell_type": "code",
   "execution_count": null,
   "metadata": {},
   "outputs": [],
   "source": [
    "def AverageChannelLR(train_dat, test_dat, train_ind, test_ind, results, max_iter, smote_features, kf, perfInd):\n",
    "    print('Implementing Logistic Regression method...')\n",
    "    start = time.time()\n",
    "    LogisticRegression(train_dat, train_ind, test_dat, test_ind, results, max_iter)\n",
    "    LogisticRegression_Kfold(smote_features, kf, perfInd, results, max_iter)\n",
    "    end = time.time()\n",
    "    print('Logistic Regression finished in', round(end - start,2),'sec\\n')"
   ]
  },
  {
   "cell_type": "markdown",
   "metadata": {},
   "source": [
    "#### LSTM"
   ]
  },
  {
   "cell_type": "code",
   "execution_count": null,
   "metadata": {},
   "outputs": [],
   "source": [
    "def AverageChannelLSTM(train_dat, test_dat, train_ind, test_ind, results, smote_features, kf, perfInd, lstm_units, dense1_units, dense2_units, dropout, epochs, loss_function, batch):\n",
    "    print('Implementing LSTM method...')\n",
    "    X_train = np.reshape(train_dat.values, (train_dat.shape[0], 1, train_dat.shape[1]))\n",
    "    y_train = train_ind.values.astype(int)\n",
    "    X_test = np.reshape(test_dat.values, (test_dat.shape[0], 1, test_dat.shape[1]))\n",
    "    y_test = test_ind.values.astype(int)\n",
    "\n",
    "    print('Starting LSTM for Model 1...')\n",
    "    start = time.time()\n",
    "    lstm_model1 = Lstm1Model(lstm_units, dense1_units, dense2_units, dropout, epochs, loss_function)\n",
    "    LSTM_method (lstm_model1, batch, epochs, X_train, y_train, X_test, y_test, results, 'LSTM1')\n",
    "    LSTM_method_Kfold (smote_features, kf, perfInd, lstm_model1, batch, epochs, results, 'LSTM1')\n",
    "    end = time.time()\n",
    "    print('LSTM for Model 1 finished in', round(end - start,2),'sec')\n",
    "    \n",
    "    print('Starting LSTM for Model 2...')\n",
    "    start = time.time()\n",
    "    lstm_model2 = Lstm2Model(lstm_units, dense1_units, dense2_units, dropout, epochs, loss_function)\n",
    "    LSTM_method (lstm_model2, batch, epochs, X_train, y_train, X_test, y_test, results, 'LSTM2')\n",
    "    LSTM_method_Kfold (smote_features, kf, perfInd, lstm_model2, batch, epochs, results, 'LSTM2')\n",
    "    end = time.time()\n",
    "    print('LSTM for Model 2 finished in', round(end - start,2),'sec')"
   ]
  },
  {
   "cell_type": "code",
   "execution_count": null,
   "metadata": {},
   "outputs": [],
   "source": [
    "def AverageChannelExperiment(df, channels, readEdf, csvImportFile, csvExportFile, dataset, sample_rate, time_window, test_ratio, pca_tolerance, smote_neighbors, k_fold, knn_neighbors, rf_estimators, max_iter, dropout, loss_function, epochs, lstm_units, dense1_units, dense2_units, batch, step):\n",
    "    perfInd = ['Accuracy', 'Sensitivity', 'Specificity', 'Precision', 'F1 Score', 'MCC', 'Kappa']\n",
    "    smote_features = AverageChannelFeatures(df, readEdf, sample_rate, step, pca_tolerance, smote_neighbors, csvExportFile)\n",
    "    train_dat, test_dat, train_ind, test_ind, results, kf = AverageChannelTrainTestData (smote_features, test_ratio, k_fold, perfInd)\n",
    "    AverageChannelSVM(train_dat, test_dat, train_ind, test_ind, results, smote_features, kf, perfInd)\n",
    "    AverageChannelKNN(train_dat, test_dat, train_ind, test_ind, results, knn_neighbors, smote_features, kf, perfInd)\n",
    "    AverageChannelNB(train_dat, test_dat, train_ind, test_ind, results, smote_features, kf, perfInd)\n",
    "    AverageChannelDT(train_dat, test_dat, train_ind, test_ind, results, smote_features, kf, perfInd)\n",
    "    AverageChannelRF(train_dat, test_dat, train_ind, test_ind, results, rf_estimators, smote_features, kf, perfInd)\n",
    "    AverageChannelLDA(train_dat, test_dat, train_ind, test_ind, results, smote_features, kf, perfInd)\n",
    "    AverageChannelLR(train_dat, test_dat, train_ind, test_ind, results, max_iter, smote_features, kf, perfInd)\n",
    "    AverageChannelLSTM(train_dat, test_dat, train_ind, test_ind, results, smote_features, kf, perfInd, lstm_units, dense1_units, dense2_units, dropout, epochs, loss_function, batch)\n",
    "    return results"
   ]
  }
 ],
 "metadata": {
  "kernelspec": {
   "display_name": "Python 3",
   "language": "python",
   "name": "python3"
  },
  "language_info": {
   "codemirror_mode": {
    "name": "ipython",
    "version": 3
   },
   "file_extension": ".py",
   "mimetype": "text/x-python",
   "name": "python",
   "nbconvert_exporter": "python",
   "pygments_lexer": "ipython3",
   "version": "3.7.3"
  },
  "varInspector": {
   "cols": {
    "lenName": 16,
    "lenType": 16,
    "lenVar": 40
   },
   "kernels_config": {
    "python": {
     "delete_cmd_postfix": "",
     "delete_cmd_prefix": "del ",
     "library": "var_list.py",
     "varRefreshCmd": "print(var_dic_list())"
    },
    "r": {
     "delete_cmd_postfix": ") ",
     "delete_cmd_prefix": "rm(",
     "library": "var_list.r",
     "varRefreshCmd": "cat(var_dic_list()) "
    }
   },
   "oldHeight": 377,
   "position": {
    "height": "287px",
    "left": "1528px",
    "right": "20px",
    "top": "114px",
    "width": "376px"
   },
   "types_to_exclude": [
    "module",
    "function",
    "builtin_function_or_method",
    "instance",
    "_Feature"
   ],
   "varInspector_section_display": "block",
   "window_display": true
  }
 },
 "nbformat": 4,
 "nbformat_minor": 2
}
