{
 "cells": [
  {
   "cell_type": "code",
   "execution_count": null,
   "metadata": {},
   "outputs": [],
   "source": [
    "import numpy as np\n",
    "import pandas as pd\n",
    "import configparser\n",
    "import tensorflow as tf\n",
    "from sklearn import model_selection, utils"
   ]
  },
  {
   "cell_type": "code",
   "execution_count": null,
   "metadata": {},
   "outputs": [],
   "source": [
    "from ipynb.fs.full.ImportExportData import exportDataframeToCSV,importCsvToDataframe\n",
    "from ipynb.fs.full.EdfManipulation import read_and_store_data\n",
    "from ipynb.fs.full.ClassificationPerformanceIndexes import classificationPerformanceIndexes\n",
    "from ipynb.fs.full.FeatureClassificationMethods import *\n",
    "from ipynb.fs.full.FeatureComputation import averageChannels, featureExtractionAverage\n",
    "from ipynb.fs.full.FeatureNormalization import featureNormalization\n",
    "from ipynb.fs.full.FeatureSelection import dimentionalityReduction\n",
    "from ipynb.fs.full.DatasetBalancing import oversamplingSMOTE\n",
    "from ipynb.fs.full.SplitDataset import createTrainingAndTestDatasets"
   ]
  },
  {
   "cell_type": "markdown",
   "metadata": {},
   "source": [
    "### Feature Extraction"
   ]
  },
  {
   "cell_type": "code",
   "execution_count": null,
   "metadata": {},
   "outputs": [],
   "source": [
    "def AverageChannelFeatures(df, readEdf, sample_rate, step, pca_tolerance, smote_neighbors, csvExportFile):\n",
    "    if readEdf:\n",
    "        ndf = averageChannels(df)\n",
    "        features = pd.DataFrame(featureExtractionAverage (ndf, sample_rate, step))\n",
    "        del ndf\n",
    "        features = featureNormalization(features)\n",
    "        reduced_features = dimentionalityReduction(features, pca_tolerance)\n",
    "        del features\n",
    "        smote_features = utils.shuffle(oversamplingSMOTE(reduced_features.drop('seizure', axis = 1), reduced_features['seizure'], smote_neighbors))\n",
    "        smote_features.reset_index(drop = True, inplace = True)\n",
    "        del reduced_features\n",
    "        exportDataframeToCSV(smote_features, csvExportFile)\n",
    "    else :\n",
    "        smote_features = df\n",
    "    return smote_features"
   ]
  },
  {
   "cell_type": "markdown",
   "metadata": {},
   "source": [
    "### Create Training and Testing Data"
   ]
  },
  {
   "cell_type": "code",
   "execution_count": null,
   "metadata": {},
   "outputs": [],
   "source": [
    "def AverageChannelTrainTestData (smote_features, test_ratio, k_fold, perfInd):\n",
    "    train_dat, test_dat, train_ind, test_ind = createTrainingAndTestDatasets(smote_features, test_ratio)\n",
    "    results = pd.DataFrame(columns = perfInd)\n",
    "    kf = model_selection.KFold(n_splits = k_fold, shuffle=True)\n",
    "    return train_dat, test_dat, train_ind, test_ind, results, kf"
   ]
  },
  {
   "cell_type": "markdown",
   "metadata": {},
   "source": [
    "### Experiment"
   ]
  },
  {
   "cell_type": "code",
   "execution_count": null,
   "metadata": {},
   "outputs": [],
   "source": [
    "def AverageChannelExperiment(df, channels, readEdf, csvImportFile, csvExportFile, dataset, sample_rate, time_window, test_ratio, pca_tolerance, smote_neighbors, k_fold, knn_neighbors, rf_estimators, max_iter, dropout, loss_function, epochs, lstm_units, dense1_units, dense2_units, batch, step):\n",
    "    perfInd = ['Accuracy', 'Sensitivity', 'Specificity', 'Precision', 'F1 Score', 'MCC', 'Kappa']\n",
    "    smote_features = AverageChannelFeatures(df, readEdf, sample_rate, step, pca_tolerance, smote_neighbors, csvExportFile)\n",
    "    train_dat, test_dat, train_ind, test_ind, results, kf = AverageChannelTrainTestData (smote_features, test_ratio, k_fold, perfInd)\n",
    "    CompleteSVM(train_dat, test_dat, train_ind, test_ind, results, smote_features, kf, perfInd)\n",
    "    CompleteKNN(train_dat, test_dat, train_ind, test_ind, results, knn_neighbors, smote_features, kf, perfInd)\n",
    "    CompleteNB(train_dat, test_dat, train_ind, test_ind, results, smote_features, kf, perfInd)\n",
    "    CompleteDT(train_dat, test_dat, train_ind, test_ind, results, smote_features, kf, perfInd)\n",
    "    CompleteRF(train_dat, test_dat, train_ind, test_ind, results, rf_estimators, smote_features, kf, perfInd)\n",
    "    CompleteLDA(train_dat, test_dat, train_ind, test_ind, results, smote_features, kf, perfInd)\n",
    "    CompleteLR(train_dat, test_dat, train_ind, test_ind, results, max_iter, smote_features, kf, perfInd)\n",
    "    CompleteLSTM(train_dat, test_dat, train_ind, test_ind, results, smote_features, kf, perfInd, lstm_units, dense1_units, dense2_units, dropout, epochs, loss_function, batch)\n",
    "    return results"
   ]
  }
 ],
 "metadata": {
  "kernelspec": {
   "display_name": "Python 3",
   "language": "python",
   "name": "python3"
  },
  "language_info": {
   "codemirror_mode": {
    "name": "ipython",
    "version": 3
   },
   "file_extension": ".py",
   "mimetype": "text/x-python",
   "name": "python",
   "nbconvert_exporter": "python",
   "pygments_lexer": "ipython3",
   "version": "3.7.4"
  },
  "varInspector": {
   "cols": {
    "lenName": 16,
    "lenType": 16,
    "lenVar": 40
   },
   "kernels_config": {
    "python": {
     "delete_cmd_postfix": "",
     "delete_cmd_prefix": "del ",
     "library": "var_list.py",
     "varRefreshCmd": "print(var_dic_list())"
    },
    "r": {
     "delete_cmd_postfix": ") ",
     "delete_cmd_prefix": "rm(",
     "library": "var_list.r",
     "varRefreshCmd": "cat(var_dic_list()) "
    }
   },
   "oldHeight": 377,
   "position": {
    "height": "287px",
    "left": "1528px",
    "right": "20px",
    "top": "114px",
    "width": "376px"
   },
   "types_to_exclude": [
    "module",
    "function",
    "builtin_function_or_method",
    "instance",
    "_Feature"
   ],
   "varInspector_section_display": "block",
   "window_display": true
  }
 },
 "nbformat": 4,
 "nbformat_minor": 2
}
