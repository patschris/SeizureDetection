{
 "cells": [
  {
   "cell_type": "code",
   "execution_count": null,
   "metadata": {},
   "outputs": [],
   "source": [
    "from sklearn.metrics import accuracy_score, cohen_kappa_score, confusion_matrix, f1_score, matthews_corrcoef"
   ]
  },
  {
   "cell_type": "markdown",
   "metadata": {},
   "source": [
    "## Classification Performance Indexes"
   ]
  },
  {
   "cell_type": "code",
   "execution_count": null,
   "metadata": {},
   "outputs": [],
   "source": [
    "'''\n",
    "TP : the number of segments that are correctly identified as ictal (x_true == x_pred == 1)\n",
    "TN : the number of EEG segments that are correctly classified as non-ictal (x_true == x_pred == 0)\n",
    "FP : the number of EEG segments that are incorrectly classified as ictal (x_true == 0 && x_pred == 1)\n",
    "FN : the segments that are incorrectly classified as non-ictal (x_true == 1 && x_pred == 0)\n",
    "'''\n",
    "def classificationPerformanceIndexes (true_arr, pred_arr, time):\n",
    "    (tn, fp, fn, tp) = confusion_matrix(true_arr, pred_arr).ravel()\n",
    "    acc = accuracy_score(true_arr, pred_arr)                           # Accuracy\n",
    "    snv = tp/(tp + fn)                                                 # Sensitivity or True Positive Rate (TPR)\n",
    "    spc = tn/(tn + fp)                                                 # Specificity or True Negative Rate (TNR)\n",
    "    ppv = tp/(tp + fp)                                                 # Precision or Positive Predictive Value (PPV)\n",
    "    f1 = f1_score(true_arr, pred_arr)                                  # F1 score\n",
    "    mcc = matthews_corrcoef(true_arr, pred_arr)                        # Matthews Correlation Coefficient\n",
    "    kappa = cohen_kappa_score(true_arr, pred_arr)                      # Cohen’s Kappa    \n",
    "    return acc, snv, spc, ppv, f1, mcc, kappa, time"
   ]
  },
  {
   "cell_type": "code",
   "execution_count": null,
   "metadata": {},
   "outputs": [],
   "source": [
    "def printClassificationPerformanceIndexes(method, acc, snv, spc, ppv, f1, mcc, kappa):\n",
    "    print('Method:', method)\n",
    "    print('Accuracy:', acc)\n",
    "    print('Sensitivity/Recall:', snv)\n",
    "    print('Specificity:', spc)\n",
    "    print('Precision:', ppv)\n",
    "    print('F1 Score:', f1)\n",
    "    print('Matthews Correlation Coefficient:', mcc)\n",
    "    print('Cohen’s Kappa:', kappa)"
   ]
  }
 ],
 "metadata": {
  "kernelspec": {
   "display_name": "Python 3",
   "language": "python",
   "name": "python3"
  },
  "language_info": {
   "codemirror_mode": {
    "name": "ipython",
    "version": 3
   },
   "file_extension": ".py",
   "mimetype": "text/x-python",
   "name": "python",
   "nbconvert_exporter": "python",
   "pygments_lexer": "ipython3",
   "version": "3.7.3"
  },
  "varInspector": {
   "cols": {
    "lenName": 16,
    "lenType": 16,
    "lenVar": 40
   },
   "kernels_config": {
    "python": {
     "delete_cmd_postfix": "",
     "delete_cmd_prefix": "del ",
     "library": "var_list.py",
     "varRefreshCmd": "print(var_dic_list())"
    },
    "r": {
     "delete_cmd_postfix": ") ",
     "delete_cmd_prefix": "rm(",
     "library": "var_list.r",
     "varRefreshCmd": "cat(var_dic_list()) "
    }
   },
   "types_to_exclude": [
    "module",
    "function",
    "builtin_function_or_method",
    "instance",
    "_Feature"
   ],
   "window_display": false
  }
 },
 "nbformat": 4,
 "nbformat_minor": 2
}
