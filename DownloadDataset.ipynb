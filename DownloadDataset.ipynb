{
 "cells": [
  {
   "cell_type": "code",
   "execution_count": null,
   "metadata": {},
   "outputs": [],
   "source": [
    "import os\n",
    "import wget"
   ]
  },
  {
   "cell_type": "markdown",
   "metadata": {},
   "source": [
    "## Create the names of the folders that exist in the dataset"
   ]
  },
  {
   "cell_type": "code",
   "execution_count": null,
   "metadata": {},
   "outputs": [],
   "source": [
    "folders = 24\n",
    "list_of_folders = []\n",
    "for i in range (1, folders+1):\n",
    "    name = 'chb'\n",
    "    if i<10:\n",
    "        name = 'chb0'\n",
    "    list_of_folders.append(str(name) + str(i))"
   ]
  },
  {
   "cell_type": "markdown",
   "metadata": {},
   "source": [
    "## Create the folders and download all the files for each folder using wget"
   ]
  },
  {
   "cell_type": "code",
   "execution_count": null,
   "metadata": {},
   "outputs": [],
   "source": [
    "# url that contains CHB-MIT Scalp EEG Database\n",
    "base_url = 'https://archive.physionet.org/pn6/chbmit/'\n",
    "\n",
    "# for every folder contained in the dataset\n",
    "for l in list_of_folders:\n",
    "    \n",
    "    # check if the folder already exists, otherwise create it\n",
    "    if not os.path.exists(l):\n",
    "        os.mkdir(l)\n",
    "        print(\"Creation of the directory %s succeeded\" % l)\n",
    "    else:\n",
    "        print (\"Directory %s already exists\" % l)\n",
    "    \n",
    "    # change the working directory to the current list's file\n",
    "    os.chdir(l)\n",
    "    \n",
    "    # for the current folder, download the 'MD5SUMS' file that enumerates all the files contained in the folder.\n",
    "    # save the names of the files in a list\n",
    "    folder_url = base_url + l \n",
    "    url = folder_url + '/' + 'MD5SUMS'\n",
    "    print ('Downloading ', url, 'to ', os.getcwd())\n",
    "    if not os.path.isfile('MD5SUMS'):\n",
    "        wget.download(url)\n",
    "    else:\n",
    "        print('File MD5SUMS already exists to ', os.getcwd())\n",
    "    f = open('MD5SUMS','r')\n",
    "    lines = f.readlines()\n",
    "    f.close()\n",
    "    \n",
    "    # for each folder download all the files that contains\n",
    "    for line in lines:\n",
    "        fname = line[line.find('chb'):line.find('\\n')].strip()\n",
    "        url = folder_url + '/' + fname\n",
    "        print ('Downloading ', url, 'to ', os.getcwd())\n",
    "        # check if we have already downloaded the file\n",
    "        if not os.path.isfile(fname):\n",
    "            wget.download(url)\n",
    "        else:\n",
    "            print('File ', fname ,' already exists to ', os.getcwd())\n",
    "        break\n",
    "        \n",
    "    # change the working directory to the parent folder\n",
    "    os.chdir('..')"
   ]
  }
 ],
 "metadata": {
  "kernelspec": {
   "display_name": "Python 3",
   "language": "python",
   "name": "python3"
  },
  "language_info": {
   "codemirror_mode": {
    "name": "ipython",
    "version": 3
   },
   "file_extension": ".py",
   "mimetype": "text/x-python",
   "name": "python",
   "nbconvert_exporter": "python",
   "pygments_lexer": "ipython3",
   "version": "3.7.3"
  },
  "varInspector": {
   "cols": {
    "lenName": 16,
    "lenType": 16,
    "lenVar": 40
   },
   "kernels_config": {
    "python": {
     "delete_cmd_postfix": "",
     "delete_cmd_prefix": "del ",
     "library": "var_list.py",
     "varRefreshCmd": "print(var_dic_list())"
    },
    "r": {
     "delete_cmd_postfix": ") ",
     "delete_cmd_prefix": "rm(",
     "library": "var_list.r",
     "varRefreshCmd": "cat(var_dic_list()) "
    }
   },
   "types_to_exclude": [
    "module",
    "function",
    "builtin_function_or_method",
    "instance",
    "_Feature"
   ],
   "window_display": false
  }
 },
 "nbformat": 4,
 "nbformat_minor": 2
}
