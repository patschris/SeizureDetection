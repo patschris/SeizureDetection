{
 "cells": [
  {
   "cell_type": "code",
   "execution_count": null,
   "metadata": {},
   "outputs": [],
   "source": [
    "from wget import download\n",
    "from os import chdir, getcwd, mkdir, path"
   ]
  },
  {
   "cell_type": "markdown",
   "metadata": {},
   "source": [
    "### Parameters"
   ]
  },
  {
   "cell_type": "code",
   "execution_count": null,
   "metadata": {},
   "outputs": [],
   "source": [
    "folders = 24\n",
    "dataset_path = 'test'\n",
    "base_url = 'https://archive.physionet.org/pn6/chbmit/'    # url that contains CHB-MIT Scalp EEG Database"
   ]
  },
  {
   "cell_type": "markdown",
   "metadata": {},
   "source": [
    "### Create the names of the folders that exist in the dataset"
   ]
  },
  {
   "cell_type": "code",
   "execution_count": null,
   "metadata": {},
   "outputs": [],
   "source": [
    "list_of_folders = []\n",
    "for i in range (1, folders+1):\n",
    "    if i<10:\n",
    "        name = 'chb0'\n",
    "    else:\n",
    "        name = 'chb'\n",
    "    list_of_folders.append(name + str(i))"
   ]
  },
  {
   "cell_type": "code",
   "execution_count": null,
   "metadata": {},
   "outputs": [],
   "source": [
    "'''\n",
    "https://stackoverflow.com/questions/1883980/find-the-nth-occurrence-of-substring-in-a-string\n",
    "'''\n",
    "def find_nth(haystack, needle, n):\n",
    "    start = haystack.find(needle)\n",
    "    while start >= 0 and n > 1:\n",
    "        start = haystack.find(needle, start + len(needle))\n",
    "        n -= 1\n",
    "    return start"
   ]
  },
  {
   "cell_type": "markdown",
   "metadata": {},
   "source": [
    "### Create the folders and download all the files for each folder using wget"
   ]
  },
  {
   "cell_type": "code",
   "execution_count": null,
   "metadata": {},
   "outputs": [],
   "source": [
    "initial_path = getcwd()\n",
    "if not path.exists(dataset_path):\n",
    "    mkdir(dataset_path)  \n",
    "chdir(dataset_path)\n",
    "\n",
    "\n",
    "files = []\n",
    "# for every folder contained in the dataset\n",
    "for l in list_of_folders:\n",
    "    \n",
    "    # check if the folder already exists, otherwise create it\n",
    "    if not path.exists(l):\n",
    "        mkdir(l)\n",
    "        print('Creation of the directory', l, 'succeeded')\n",
    "    else:\n",
    "        print ('Directory', l,  'already exists')\n",
    "    \n",
    "    # change the working directory to the current list's file\n",
    "    chdir(l)\n",
    "    \n",
    "    # for the current folder, download the 'MD5SUMS' file that enumerates all the files contained in the folder.\n",
    "    # save the names of the files in a list\n",
    "    folder_url = base_url + l \n",
    "    url = folder_url + '/' + 'MD5SUMS'\n",
    "    print ('Downloading ', url, 'to ', getcwd())\n",
    "    if not path.isfile('MD5SUMS'):\n",
    "        download(url)\n",
    "    else:\n",
    "        print('File MD5SUMS already exists to ', getcwd())\n",
    "    f = open('MD5SUMS','r')\n",
    "    lines = f.readlines()\n",
    "    f.close()\n",
    "    # for each folder download all the files that contains\n",
    "    for line in lines:\n",
    "        fname = line[line.find('chb'):line.find('\\n')].strip()\n",
    "        url = folder_url + '/' + fname\n",
    "        \n",
    "        # check if we have already downloaded the file\n",
    "        if not path.isfile(fname) and fname.endswith('.seizures'):\n",
    "            print ('Downloading ', url[:find_nth(url, '.seizures', 1)], 'to ', getcwd())\n",
    "            download(url[:find_nth(url, '.seizures', 1)])\n",
    "            print ('Downloading ', url, 'to ', getcwd())\n",
    "            download(url)\n",
    "        \n",
    "    # change the working directory to the parent folder\n",
    "    chdir('..')\n",
    "chdir(initial_path)"
   ]
  }
 ],
 "metadata": {
  "kernelspec": {
   "display_name": "Python 3",
   "language": "python",
   "name": "python3"
  },
  "language_info": {
   "codemirror_mode": {
    "name": "ipython",
    "version": 3
   },
   "file_extension": ".py",
   "mimetype": "text/x-python",
   "name": "python",
   "nbconvert_exporter": "python",
   "pygments_lexer": "ipython3",
   "version": "3.7.3"
  },
  "varInspector": {
   "cols": {
    "lenName": 16,
    "lenType": 16,
    "lenVar": 40
   },
   "kernels_config": {
    "python": {
     "delete_cmd_postfix": "",
     "delete_cmd_prefix": "del ",
     "library": "var_list.py",
     "varRefreshCmd": "print(var_dic_list())"
    },
    "r": {
     "delete_cmd_postfix": ") ",
     "delete_cmd_prefix": "rm(",
     "library": "var_list.r",
     "varRefreshCmd": "cat(var_dic_list()) "
    }
   },
   "types_to_exclude": [
    "module",
    "function",
    "builtin_function_or_method",
    "instance",
    "_Feature"
   ],
   "window_display": false
  }
 },
 "nbformat": 4,
 "nbformat_minor": 2
}
