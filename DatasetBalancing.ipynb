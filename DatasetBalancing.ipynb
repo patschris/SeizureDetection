{
 "cells": [
  {
   "cell_type": "code",
   "execution_count": null,
   "metadata": {
    "scrolled": true
   },
   "outputs": [],
   "source": [
    "import pandas as pd\n",
    "from imblearn.over_sampling import SMOTE, ADASYN\n",
    "from imblearn.under_sampling import ClusterCentroids, RandomUnderSampler, NearMiss"
   ]
  },
  {
   "cell_type": "markdown",
   "metadata": {},
   "source": [
    "1) https://medium.com/@saeedAR/smote-and-near-miss-in-python-machine-learning-in-imbalanced-datasets-b7976d9a7a79\n",
    "\n",
    "2) https://www.kaggle.com/rafjaa/resampling-strategies-for-imbalanced-datasets\n",
    "\n",
    "3) https://github.com/pb111/Data-Preprocessing-Project-Imbalanced-Classes-Problem/blob/master/Data%20Preprocessing%20Project%20-%20Imbalanced%20Classes%20Problem.ipynb"
   ]
  },
  {
   "cell_type": "markdown",
   "metadata": {},
   "source": [
    "### Oversampling minority class"
   ]
  },
  {
   "cell_type": "code",
   "execution_count": null,
   "metadata": {},
   "outputs": [],
   "source": [
    "def oversamplingSMOTE(ft, ft_index, neighbors):\n",
    "    smote = SMOTE(sampling_strategy = 'minority', k_neighbors = neighbors)\n",
    "    smote_features, smote_indicator = smote.fit_sample(ft, ft_index)\n",
    "    smote_features['seizure'] = smote_indicator\n",
    "    return smote_features"
   ]
  },
  {
   "cell_type": "code",
   "execution_count": null,
   "metadata": {},
   "outputs": [],
   "source": [
    "def oversamplingADASYN(ft, ft_index, neighbors):\n",
    "    adasyn = ADASYN(sampling_strategy='minority', n_neighbors = neighbors)\n",
    "    adasyn_features, adasyn_indicator = adasyn.fit_sample(ft, ft_index)\n",
    "    adasyn_features['seizure'] = adasyn_indicator\n",
    "    return adasyn_features"
   ]
  },
  {
   "cell_type": "code",
   "execution_count": null,
   "metadata": {},
   "outputs": [],
   "source": [
    "def minorityOversampling (ft, ft_index, neighbors, method):\n",
    "    if method.upper() == 'ADASYN': return oversamplingADASYN(ft, ft_index, neighbors)\n",
    "    else: return oversamplingSMOTE(ft, ft_index, neighbors)"
   ]
  },
  {
   "cell_type": "markdown",
   "metadata": {},
   "source": [
    "### Undersampling majority class"
   ]
  },
  {
   "cell_type": "code",
   "execution_count": null,
   "metadata": {},
   "outputs": [],
   "source": [
    "def undersamplingClusterCentroids(ft, ft_index, rate):\n",
    "    cc = ClusterCentroids(sampling_strategy = rate)\n",
    "    cc_features, cc_indicator = cc.fit_sample(ft, ft_index)\n",
    "    cc_features['seizure'] = cc_indicator\n",
    "    return cc_features"
   ]
  },
  {
   "cell_type": "code",
   "execution_count": null,
   "metadata": {},
   "outputs": [],
   "source": [
    "def undersamplingNearMiss(ft, ft_index, rate, neighbors):\n",
    "    nm = NearMiss(sampling_strategy=rate, n_neighbors=neighbors)\n",
    "    nm_features, nm_indicator = nm.fit_sample(ft, ft_index)\n",
    "    nm_features['seizure'] = nm_indicator\n",
    "    return nm_features"
   ]
  },
  {
   "cell_type": "code",
   "execution_count": null,
   "metadata": {},
   "outputs": [],
   "source": [
    "def undersamplingRandom (ft, ft_index, rate):\n",
    "    ru = RandomUnderSampler(sampling_strategy = rate)\n",
    "    ru_features, ru_indicator = ru.fit_sample(ft, ft_index)\n",
    "    ru_features['seizure'] = ru_indicator\n",
    "    return ru_features"
   ]
  },
  {
   "cell_type": "code",
   "execution_count": null,
   "metadata": {},
   "outputs": [],
   "source": [
    "def majorityUndersampling (ft, ft_index, rate, neighbors, method):\n",
    "    if method.upper() == 'RANDOM': return undersamplingRandom (ft, ft_index, rate)\n",
    "    elif method.upper() == 'NEARMISS': return undersamplingNearMiss(ft, ft_index, rate, neighbors)\n",
    "    else: return undersamplingClusterCentroids(ft, ft_index, rate)"
   ]
  }
 ],
 "metadata": {
  "kernelspec": {
   "display_name": "Python 3",
   "language": "python",
   "name": "python3"
  },
  "language_info": {
   "codemirror_mode": {
    "name": "ipython",
    "version": 3
   },
   "file_extension": ".py",
   "mimetype": "text/x-python",
   "name": "python",
   "nbconvert_exporter": "python",
   "pygments_lexer": "ipython3",
   "version": "3.7.3"
  },
  "varInspector": {
   "cols": {
    "lenName": 16,
    "lenType": 16,
    "lenVar": 40
   },
   "kernels_config": {
    "python": {
     "delete_cmd_postfix": "",
     "delete_cmd_prefix": "del ",
     "library": "var_list.py",
     "varRefreshCmd": "print(var_dic_list())"
    },
    "r": {
     "delete_cmd_postfix": ") ",
     "delete_cmd_prefix": "rm(",
     "library": "var_list.r",
     "varRefreshCmd": "cat(var_dic_list()) "
    }
   },
   "types_to_exclude": [
    "module",
    "function",
    "builtin_function_or_method",
    "instance",
    "_Feature"
   ],
   "window_display": false
  }
 },
 "nbformat": 4,
 "nbformat_minor": 2
}
