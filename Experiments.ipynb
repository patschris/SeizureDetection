{
 "cells": [
  {
   "cell_type": "code",
   "execution_count": null,
   "metadata": {},
   "outputs": [],
   "source": [
    "import numpy as np\n",
    "import pandas as pd\n",
    "from sklearn import model_selection, utils"
   ]
  },
  {
   "cell_type": "code",
   "execution_count": null,
   "metadata": {},
   "outputs": [],
   "source": [
    "from ipynb.fs.full.EdfManipulation import read_and_store_data\n",
    "from ipynb.fs.full.FeatureSelection import dimentionalityReduction\n",
    "from ipynb.fs.full.SplitDataset import createTrainingAndTestDatasets\n",
    "from ipynb.fs.full.DatasetBalancing import minorityOversampling, majorityUndersampling\n",
    "from ipynb.fs.full.ClassificationPerformanceIndexes import classificationPerformanceIndexes\n",
    "from ipynb.fs.full.FeatureNormalization import featureNormalization, removeNonNumericValues\n",
    "from ipynb.fs.full.FeatureClassificationMethods import CompleteSVM, CompleteKNN, CompleteNB, CompleteDT, CompleteRF, CompleteLDA, CompleteLR, CompleteLSTM\n",
    "from ipynb.fs.full.FeatureComputation import leftRightHemisphericChannels, featureExtractionLeftRight, averageChannels, featureExtractionAverage, featureExtractionFull"
   ]
  },
  {
   "cell_type": "markdown",
   "metadata": {},
   "source": [
    "### Feature Extraction"
   ]
  },
  {
   "cell_type": "code",
   "execution_count": null,
   "metadata": {},
   "outputs": [],
   "source": [
    "def featureExtraction (df, sample_rate, step, pca_tolerance, undersampling_method, undersampling_rate, undersampling_neighbors, oversampling_method, oversampling_neighbors, experiment):\n",
    "    if experiment.upper() == 'FULL':\n",
    "        ft = pd.DataFrame(featureExtractionFull (df, sample_rate, step))\n",
    "    elif experiment.upper() == 'AVERAGE':\n",
    "        ft = pd.DataFrame(featureExtractionAverage (averageChannels(df), sample_rate, step))\n",
    "    else:\n",
    "        ft = pd.DataFrame(featureExtractionLeftRight (leftRightHemisphericChannels(df), sample_rate, step))\n",
    "    removeNonNumericValues(ft)\n",
    "    ft = featureNormalization(ft)\n",
    "    print('Normalized features')\n",
    "    removeNonNumericValues(ft)\n",
    "    ft = dimentionalityReduction(ft, pca_tolerance)\n",
    "    removeNonNumericValues(ft)\n",
    "    ft = majorityUndersampling(ft.loc[:, ft.columns != 'seizure'], ft['seizure'], undersampling_rate, undersampling_neighbors, undersampling_method)\n",
    "    removeNonNumericValues(ft)\n",
    "    ft = utils.shuffle(minorityOversampling(ft.loc[:, ft.columns != 'seizure'], ft['seizure'], oversampling_neighbors, oversampling_method))\n",
    "    ft.reset_index(drop = True, inplace = True)\n",
    "    removeNonNumericValues(ft)\n",
    "    return ft"
   ]
  },
  {
   "cell_type": "markdown",
   "metadata": {},
   "source": [
    "### Create Training and Testing Data"
   ]
  },
  {
   "cell_type": "code",
   "execution_count": null,
   "metadata": {},
   "outputs": [],
   "source": [
    "def TrainTestData (features, test_ratio, k_fold, perfInd):\n",
    "    train_dat, test_dat, train_ind, test_ind = createTrainingAndTestDatasets(features, test_ratio)\n",
    "    results = pd.DataFrame(columns = perfInd)\n",
    "    kf = model_selection.KFold(n_splits = k_fold, shuffle = True)\n",
    "    return train_dat, test_dat, train_ind, test_ind, results, kf"
   ]
  },
  {
   "cell_type": "markdown",
   "metadata": {},
   "source": [
    "### Experiment"
   ]
  },
  {
   "cell_type": "code",
   "execution_count": null,
   "metadata": {},
   "outputs": [],
   "source": [
    "def Experiment (df, channels, dataset, sample_rate, time_window, test_ratio, pca_tolerance, undersampling_method, undersampling_rate, undersampling_neighbors, oversampling_method, oversampling_neighbors, k_fold, knn_neighbors, rf_estimators, max_iter, dropout, loss_function, epochs, lstm_units, dense1_units, dense2_units, batch, step, perfInd, experiment):\n",
    "    if  experiment.upper() not in ['FULL', 'AVERAGE', 'LEFTRIGHT']:\n",
    "        print('No such experiment:', experiment)\n",
    "        return\n",
    "    else:\n",
    "        print ('Executing Experiment', experiment)\n",
    "    ft = featureExtraction (df, sample_rate, step, pca_tolerance, undersampling_method, undersampling_rate, undersampling_neighbors, oversampling_method, oversampling_neighbors, experiment)\n",
    "    train_dat, test_dat, train_ind, test_ind, results, kf = TrainTestData (ft, test_ratio, k_fold, perfInd)\n",
    "    CompleteSVM(train_dat, test_dat, train_ind, test_ind, results, ft, kf, perfInd)\n",
    "    CompleteKNN(train_dat, test_dat, train_ind, test_ind, results, knn_neighbors, ft, kf, perfInd)\n",
    "    CompleteNB(train_dat, test_dat, train_ind, test_ind, results, ft, kf, perfInd)\n",
    "    CompleteDT(train_dat, test_dat, train_ind, test_ind, results, ft, kf, perfInd)\n",
    "    CompleteRF(train_dat, test_dat, train_ind, test_ind, results, rf_estimators, ft, kf, perfInd)\n",
    "    CompleteLDA(train_dat, test_dat, train_ind, test_ind, results, ft, kf, perfInd)\n",
    "    CompleteLR(train_dat, test_dat, train_ind, test_ind, results, max_iter, ft, kf, perfInd)\n",
    "    CompleteLSTM(train_dat, test_dat, train_ind, test_ind, results, ft, kf, perfInd, lstm_units, dense1_units, dense2_units, dropout, epochs, loss_function, batch)\n",
    "    return results"
   ]
  }
 ],
 "metadata": {
  "kernelspec": {
   "display_name": "Python 3",
   "language": "python",
   "name": "python3"
  },
  "language_info": {
   "codemirror_mode": {
    "name": "ipython",
    "version": 3
   },
   "file_extension": ".py",
   "mimetype": "text/x-python",
   "name": "python",
   "nbconvert_exporter": "python",
   "pygments_lexer": "ipython3",
   "version": "3.7.3"
  },
  "varInspector": {
   "cols": {
    "lenName": 16,
    "lenType": 16,
    "lenVar": 40
   },
   "kernels_config": {
    "python": {
     "delete_cmd_postfix": "",
     "delete_cmd_prefix": "del ",
     "library": "var_list.py",
     "varRefreshCmd": "print(var_dic_list())"
    },
    "r": {
     "delete_cmd_postfix": ") ",
     "delete_cmd_prefix": "rm(",
     "library": "var_list.r",
     "varRefreshCmd": "cat(var_dic_list()) "
    }
   },
   "types_to_exclude": [
    "module",
    "function",
    "builtin_function_or_method",
    "instance",
    "_Feature"
   ],
   "window_display": false
  }
 },
 "nbformat": 4,
 "nbformat_minor": 4
}
