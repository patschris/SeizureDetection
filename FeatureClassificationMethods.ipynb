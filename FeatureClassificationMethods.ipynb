{
 "cells": [
  {
   "cell_type": "code",
   "execution_count": null,
   "metadata": {},
   "outputs": [],
   "source": [
    "import numpy as np\n",
    "import pandas as pd\n",
    "from tensorflow.keras.models import Sequential\n",
    "from tensorflow.keras.layers import Dense, Dropout, LSTM\n",
    "from sklearn import discriminant_analysis, ensemble, linear_model, naive_bayes, neighbors, svm, tree"
   ]
  },
  {
   "cell_type": "code",
   "execution_count": null,
   "metadata": {},
   "outputs": [],
   "source": [
    "from ipynb.fs.full.ClassificationPerformanceIndexes import classificationPerformanceIndexes"
   ]
  },
  {
   "cell_type": "markdown",
   "metadata": {},
   "source": [
    "## Feature Classification"
   ]
  },
  {
   "cell_type": "markdown",
   "metadata": {},
   "source": [
    "### SVM"
   ]
  },
  {
   "cell_type": "code",
   "execution_count": null,
   "metadata": {},
   "outputs": [],
   "source": [
    "def SVM(X_train, y_train, X_test, y_test, results):\n",
    "    clf = svm.SVC()\n",
    "    svm_ind = clf.fit(X_train, y_train).predict(X_test)\n",
    "    results.loc['SVM', :] = classificationPerformanceIndexes (y_test, svm_ind)"
   ]
  },
  {
   "cell_type": "code",
   "execution_count": null,
   "metadata": {},
   "outputs": [],
   "source": [
    "def SVM_Kfold(X, kf, cols, results):\n",
    "    f = pd.DataFrame(columns = cols)\n",
    "    clf = svm.SVC()\n",
    "    for train, test in kf.split(X):\n",
    "        X_train = X.iloc[train,:X.shape[1]-1]\n",
    "        y_train = X.loc[train,'seizure']\n",
    "        X_test = X.iloc[test,:X.shape[1]-1]\n",
    "        y_test = X.loc[test,'seizure']\n",
    "        svm_ind = clf.fit(X_train, y_train).predict(X_test)\n",
    "        f.loc[f.shape[0], :] = classificationPerformanceIndexes (y_test, svm_ind)\n",
    "    results.loc['SVM Kfold', :] = np.array(f.mean(axis=0))"
   ]
  },
  {
   "cell_type": "markdown",
   "metadata": {},
   "source": [
    "### K-NN"
   ]
  },
  {
   "cell_type": "code",
   "execution_count": null,
   "metadata": {},
   "outputs": [],
   "source": [
    "def KNN(X_train, y_train, X_test, y_test, n_neighbors,results):\n",
    "    clf = neighbors.KNeighborsClassifier(n_neighbors)\n",
    "    knn_ind = clf.fit(X_train, y_train).predict(X_test)\n",
    "    results.loc['KNN', :] = classificationPerformanceIndexes (y_test, knn_ind)"
   ]
  },
  {
   "cell_type": "code",
   "execution_count": null,
   "metadata": {},
   "outputs": [],
   "source": [
    "def KNN_Kfold(X, n_neighbors, kf, cols, results):\n",
    "    f = pd.DataFrame(columns = cols)\n",
    "    clf = neighbors.KNeighborsClassifier(n_neighbors)\n",
    "    for train, test in kf.split(X):\n",
    "        X_train = X.iloc[train,:X.shape[1]-1]\n",
    "        y_train = X.loc[train,'seizure']\n",
    "        X_test = X.iloc[test,:X.shape[1]-1]\n",
    "        y_test = X.loc[test,'seizure']\n",
    "        knn_ind = clf.fit(X_train, y_train).predict(X_test)\n",
    "        f.loc[f.shape[0], :] = classificationPerformanceIndexes (y_test, knn_ind)\n",
    "    results.loc['KNN Kfold', :] = np.array(f.mean(axis=0))"
   ]
  },
  {
   "cell_type": "markdown",
   "metadata": {},
   "source": [
    "### Naive Bayes"
   ]
  },
  {
   "cell_type": "code",
   "execution_count": null,
   "metadata": {},
   "outputs": [],
   "source": [
    "def NaiveBayes(X_train, y_train, X_test, y_test, results):\n",
    "    clf = naive_bayes.GaussianNB()\n",
    "    nb_ind = clf.fit(X_train, y_train).predict(X_test)\n",
    "    results.loc['Naive Bayes', :] = classificationPerformanceIndexes (y_test, nb_ind)"
   ]
  },
  {
   "cell_type": "code",
   "execution_count": null,
   "metadata": {},
   "outputs": [],
   "source": [
    "def NaiveBayes_Kfold(X, kf, cols, results):\n",
    "    f = pd.DataFrame(columns = cols)\n",
    "    clf = naive_bayes.GaussianNB()\n",
    "    for train, test in kf.split(X):\n",
    "        X_train = X.iloc[train,:X.shape[1]-1]\n",
    "        y_train = X.loc[train,'seizure']\n",
    "        X_test = X.iloc[test,:X.shape[1]-1]\n",
    "        y_test = X.loc[test,'seizure']\n",
    "        nb_ind = clf.fit(X_train, y_train).predict(X_test)\n",
    "        f.loc[f.shape[0], :] = classificationPerformanceIndexes (y_test, nb_ind)\n",
    "    results.loc['Naive Bayes Kfold', :] = np.array(f.mean(axis=0))"
   ]
  },
  {
   "cell_type": "markdown",
   "metadata": {},
   "source": [
    "### Decision Trees"
   ]
  },
  {
   "cell_type": "code",
   "execution_count": null,
   "metadata": {},
   "outputs": [],
   "source": [
    "def DecisionTrees(X_train, y_train, X_test, y_test, results):\n",
    "    clf = tree.DecisionTreeClassifier()\n",
    "    dt_ind = clf.fit(X_train, y_train).predict(X_test)\n",
    "    results.loc['Decision Trees', :] = classificationPerformanceIndexes (y_test, dt_ind)"
   ]
  },
  {
   "cell_type": "code",
   "execution_count": null,
   "metadata": {},
   "outputs": [],
   "source": [
    "def DecisionTrees_Kfold(X, kf, cols, results):\n",
    "    f = pd.DataFrame(columns = cols)\n",
    "    clf = tree.DecisionTreeClassifier()\n",
    "    for train, test in kf.split(X):\n",
    "        X_train = X.iloc[train,:X.shape[1]-1]\n",
    "        y_train = X.loc[train,'seizure']\n",
    "        X_test = X.iloc[test,:X.shape[1]-1]\n",
    "        y_test = X.loc[test,'seizure']\n",
    "        dt_ind = clf.fit(X_train, y_train).predict(X_test)\n",
    "        f.loc[f.shape[0], :] = classificationPerformanceIndexes (y_test, dt_ind)\n",
    "    results.loc['Decision Trees Kfold', :] = np.array(f.mean(axis=0))"
   ]
  },
  {
   "cell_type": "markdown",
   "metadata": {},
   "source": [
    "### Random Forest"
   ]
  },
  {
   "cell_type": "code",
   "execution_count": null,
   "metadata": {},
   "outputs": [],
   "source": [
    "def RandomForest(X_train, y_train, X_test, y_test, rf_estim, results):\n",
    "    clf = ensemble.RandomForestClassifier(n_estimators = rf_estim)\n",
    "    rf_ind = clf.fit(X_train, y_train).predict(X_test)\n",
    "    results.loc['Random Forest', :] = classificationPerformanceIndexes (y_test, rf_ind)"
   ]
  },
  {
   "cell_type": "code",
   "execution_count": null,
   "metadata": {},
   "outputs": [],
   "source": [
    "def RandomForest_Kfold(X, rf_estim, kf, cols, results):\n",
    "    f = pd.DataFrame(columns = cols)\n",
    "    clf = ensemble.RandomForestClassifier(n_estimators = rf_estim)\n",
    "    for train, test in kf.split(X):\n",
    "        X_train = X.iloc[train,:X.shape[1]-1]\n",
    "        y_train = X.loc[train,'seizure']\n",
    "        X_test = X.iloc[test,:X.shape[1]-1]\n",
    "        y_test = X.loc[test,'seizure']\n",
    "        rf_ind = clf.fit(X_train, y_train).predict(X_test)\n",
    "        f.loc[f.shape[0], :] = classificationPerformanceIndexes (y_test, rf_ind)\n",
    "    results.loc['Random Forest Kfold', :] = np.array(f.mean(axis=0))"
   ]
  },
  {
   "cell_type": "markdown",
   "metadata": {},
   "source": [
    "### LDA"
   ]
  },
  {
   "cell_type": "code",
   "execution_count": null,
   "metadata": {},
   "outputs": [],
   "source": [
    "def LDA(X_train, y_train, X_test, y_test, results):\n",
    "    clf = discriminant_analysis.LinearDiscriminantAnalysis(solver= 'eigen')\n",
    "    lda_ind = clf.fit(X_train, y_train).predict(X_test)\n",
    "    results.loc['LDA', :] = classificationPerformanceIndexes (y_test, lda_ind)"
   ]
  },
  {
   "cell_type": "code",
   "execution_count": null,
   "metadata": {},
   "outputs": [],
   "source": [
    "def LDA_Kfold(X, kf, cols, results):\n",
    "    f = pd.DataFrame(columns = cols)\n",
    "    clf = discriminant_analysis.LinearDiscriminantAnalysis(solver= 'eigen')\n",
    "    for train, test in kf.split(X):\n",
    "        X_train = X.iloc[train,:X.shape[1]-1]\n",
    "        y_train = X.loc[train,'seizure']\n",
    "        X_test = X.iloc[test,:X.shape[1]-1]\n",
    "        y_test = X.loc[test,'seizure']\n",
    "        lda_ind = clf.fit(X_train, y_train).predict(X_test)\n",
    "        f.loc[f.shape[0], :] = classificationPerformanceIndexes (y_test, lda_ind)\n",
    "    results.loc['LDA Kfold', :] = np.array(f.mean(axis=0))"
   ]
  },
  {
   "cell_type": "markdown",
   "metadata": {},
   "source": [
    "### Logistic Regression"
   ]
  },
  {
   "cell_type": "code",
   "execution_count": null,
   "metadata": {},
   "outputs": [],
   "source": [
    "def LogisticRegression(X_train, y_train, X_test, y_test, results, max_iter):\n",
    "    clf = linear_model.LogisticRegression(max_iter = max_iter)\n",
    "    lr_ind = clf.fit(X_train, y_train).predict(X_test)\n",
    "    results.loc['Logistic Regression', :] = classificationPerformanceIndexes (y_test, lr_ind)"
   ]
  },
  {
   "cell_type": "code",
   "execution_count": null,
   "metadata": {},
   "outputs": [],
   "source": [
    "def LogisticRegression_Kfold(X, kf, cols, results, max_iter):\n",
    "    f = pd.DataFrame(columns = cols)\n",
    "    clf = linear_model.LogisticRegression(max_iter = max_iter)\n",
    "    for train, test in kf.split(X):\n",
    "        X_train = X.iloc[train,:X.shape[1]-1]\n",
    "        y_train = X.loc[train,'seizure']\n",
    "        X_test = X.iloc[test,:X.shape[1]-1]\n",
    "        y_test = X.loc[test,'seizure']\n",
    "        lr_ind = clf.fit(X_train, y_train).predict(X_test)\n",
    "        f.loc[f.shape[0], :] = classificationPerformanceIndexes (y_test, lr_ind)\n",
    "    results.loc['Logistic Regression Kfold', :] = np.array(f.mean(axis=0))"
   ]
  },
  {
   "cell_type": "markdown",
   "metadata": {},
   "source": [
    "### LSTM"
   ]
  },
  {
   "cell_type": "code",
   "execution_count": null,
   "metadata": {},
   "outputs": [],
   "source": [
    "def Lstm1Model(unitsLSTM, unitsDense1, unitsDense2, dropoutperc, epoch, lossfunction):\n",
    "    model = Sequential()\n",
    "    model.add(LSTM(unitsLSTM))\n",
    "    model.add(Dropout(dropoutperc))\n",
    "    model.add(Dense(unitsDense1, activation = 'relu'))\n",
    "    model.add(Dense(unitsDense2, activation = 'sigmoid'))\n",
    "    model.compile(optimizer = 'adam', loss = lossfunction, metrics = ['accuracy'])\n",
    "    return model"
   ]
  },
  {
   "cell_type": "code",
   "execution_count": null,
   "metadata": {},
   "outputs": [],
   "source": [
    "def Lstm2Model(unitsLSTM, unitsDense1, unitsDense2, dropoutperc, epoch, lossfunction):\n",
    "    model = Sequential()\n",
    "    model.add(LSTM(unitsLSTM, return_sequences = True))\n",
    "    model.add(Dropout(dropoutperc))\n",
    "    model.add(LSTM(unitsLSTM))\n",
    "    model.add(Dropout(dropoutperc))\n",
    "    model.add(Dense(unitsDense1, activation = 'relu'))\n",
    "    model.add(Dense(unitsDense2, activation = 'sigmoid'))\n",
    "    model.compile(optimizer = 'adam', loss = lossfunction, metrics = ['accuracy'])\n",
    "    return model"
   ]
  },
  {
   "cell_type": "code",
   "execution_count": null,
   "metadata": {},
   "outputs": [],
   "source": [
    "def LSTM_method (model, batch, epochs, X_train, y_train, X_test, y_test, results, tag):\n",
    "    model.fit(X_train, y_train, batch_size = batch, epochs = epochs, verbose = 0)\n",
    "    lstm_ind = model.predict_classes(X_test, batch_size = batch)\n",
    "    results.loc[tag, :] = classificationPerformanceIndexes (y_test, np.reshape(lstm_ind, lstm_ind.shape[0]))"
   ]
  },
  {
   "cell_type": "code",
   "execution_count": null,
   "metadata": {},
   "outputs": [],
   "source": [
    "def LSTM_method_Kfold(X, kf, cols, model, batch, epochs, results, tag):\n",
    "    f = pd.DataFrame(columns = cols)\n",
    "    for train, test in kf.split(X):\n",
    "        X_train = X.iloc[train,:X.shape[1]-1]\n",
    "        X_train = np.reshape(X_train.values, (X_train.shape[0], 1, X_train.shape[1]))\n",
    "        y_train = X.loc[train,'seizure'].values.astype(int)\n",
    "        X_test = X.iloc[test,:X.shape[1]-1]\n",
    "        X_test = np.reshape(X_test.values, (X_test.shape[0], 1, X_test.shape[1]))\n",
    "        y_test = X.loc[test,'seizure'].values.astype(int)\n",
    "        model.fit(X_train, y_train, batch_size = batch, epochs = epochs, verbose = 0)\n",
    "        lstm_ind = model.predict_classes(X_test, batch_size = batch)\n",
    "        f.loc[f.shape[0], :] = classificationPerformanceIndexes (y_test, np.reshape(lstm_ind, lstm_ind.shape[0]))\n",
    "    results.loc[tag + ' Kfold', :] = np.array(f.mean(axis=0))"
   ]
  }
 ],
 "metadata": {
  "kernelspec": {
   "display_name": "Python 3",
   "language": "python",
   "name": "python3"
  },
  "language_info": {
   "codemirror_mode": {
    "name": "ipython",
    "version": 3
   },
   "file_extension": ".py",
   "mimetype": "text/x-python",
   "name": "python",
   "nbconvert_exporter": "python",
   "pygments_lexer": "ipython3",
   "version": "3.7.3"
  },
  "varInspector": {
   "cols": {
    "lenName": 16,
    "lenType": 16,
    "lenVar": 40
   },
   "kernels_config": {
    "python": {
     "delete_cmd_postfix": "",
     "delete_cmd_prefix": "del ",
     "library": "var_list.py",
     "varRefreshCmd": "print(var_dic_list())"
    },
    "r": {
     "delete_cmd_postfix": ") ",
     "delete_cmd_prefix": "rm(",
     "library": "var_list.r",
     "varRefreshCmd": "cat(var_dic_list()) "
    }
   },
   "types_to_exclude": [
    "module",
    "function",
    "builtin_function_or_method",
    "instance",
    "_Feature"
   ],
   "window_display": false
  }
 },
 "nbformat": 4,
 "nbformat_minor": 2
}
