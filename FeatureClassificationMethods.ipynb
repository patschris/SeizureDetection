{
 "cells": [
  {
   "cell_type": "code",
   "execution_count": null,
   "metadata": {},
   "outputs": [],
   "source": [
    "import numpy as np\n",
    "import pandas as pd\n",
    "from sklearn import svm\n",
    "from sklearn import neighbors\n",
    "from sklearn import model_selection"
   ]
  },
  {
   "cell_type": "code",
   "execution_count": null,
   "metadata": {},
   "outputs": [],
   "source": [
    "from ipynb.fs.full.ClassificationPerformanceIndexes import classificationPerformanceIndexes"
   ]
  },
  {
   "cell_type": "markdown",
   "metadata": {},
   "source": [
    "## Feature Classification"
   ]
  },
  {
   "cell_type": "markdown",
   "metadata": {},
   "source": [
    "### SVM"
   ]
  },
  {
   "cell_type": "code",
   "execution_count": null,
   "metadata": {},
   "outputs": [],
   "source": [
    "def SVM_Method(X_train, y_train, X_test, y_test, results):\n",
    "    clf = svm.SVC()\n",
    "    clf.fit(X_train, y_train)\n",
    "    svm_ind = clf.predict(X_test)\n",
    "    results.loc['SVM', :] = classificationPerformanceIndexes (y_test, svm_ind)"
   ]
  },
  {
   "cell_type": "code",
   "execution_count": null,
   "metadata": {},
   "outputs": [],
   "source": [
    "def SVM_Kfold_Method(X, n_splits, cols, results):\n",
    "    kf = model_selection.KFold(n_splits, shuffle=True)\n",
    "    f = pd.DataFrame(columns = cols)\n",
    "    clf = svm.SVC()\n",
    "    for train, test in kf.split(X):\n",
    "        X_train, y_train = X.loc[train,:], X.loc[train,'seizure']\n",
    "        X_test, y_test = X.loc[test,:], X.loc[test,'seizure']\n",
    "        clf.fit(X_train, y_train)\n",
    "        svm_ind = clf.predict(X_test)\n",
    "        f.loc[f.shape[0], :] = classificationPerformanceIndexes (y_test, svm_ind)\n",
    "    results.loc['SVM Kfold', :] = np.array(f.mean(axis=0))"
   ]
  },
  {
   "cell_type": "markdown",
   "metadata": {},
   "source": [
    "### K-NN"
   ]
  },
  {
   "cell_type": "code",
   "execution_count": null,
   "metadata": {},
   "outputs": [],
   "source": [
    "def KNN_Method(X_train, y_train, X_test, y_test, n_neighbors,results):\n",
    "    clf = neighbors.KNeighborsClassifier(n_neighbors, )\n",
    "    clf.fit(X_train, y_train)\n",
    "    knn_ind = clf.predict(X_test)\n",
    "    results.loc['KNN', :] = classificationPerformanceIndexes (y_test, knn_ind)"
   ]
  },
  {
   "cell_type": "code",
   "execution_count": null,
   "metadata": {},
   "outputs": [],
   "source": [
    "def KNN_Kfold_Method(X, n_neighbors, n_splits, cols, results):\n",
    "    kf = model_selection.KFold(n_splits, shuffle=True)\n",
    "    f = pd.DataFrame(columns = cols)\n",
    "    clf = neighbors.KNeighborsClassifier(n_neighbors)\n",
    "    for train, test in kf.split(X):\n",
    "        X_train, y_train = X.loc[train,:], X.loc[train,'seizure']\n",
    "        X_test, y_test = X.loc[test,:], X.loc[test,'seizure']\n",
    "        clf.fit(X_train, y_train)\n",
    "        knn_ind = clf.predict(X_test)\n",
    "        f.loc[f.shape[0], :] = classificationPerformanceIndexes (y_test, knn_ind)\n",
    "    results.loc['KNN Kfold', :] = np.array(f.mean(axis=0))"
   ]
  },
  {
   "cell_type": "markdown",
   "metadata": {},
   "source": [
    "### Naive Bayes"
   ]
  },
  {
   "cell_type": "code",
   "execution_count": null,
   "metadata": {},
   "outputs": [],
   "source": []
  },
  {
   "cell_type": "markdown",
   "metadata": {},
   "source": [
    "### Decision Trees"
   ]
  },
  {
   "cell_type": "code",
   "execution_count": null,
   "metadata": {},
   "outputs": [],
   "source": []
  },
  {
   "cell_type": "markdown",
   "metadata": {},
   "source": [
    "### LDA"
   ]
  },
  {
   "cell_type": "code",
   "execution_count": null,
   "metadata": {},
   "outputs": [],
   "source": []
  },
  {
   "cell_type": "markdown",
   "metadata": {},
   "source": [
    "### Random Forest"
   ]
  },
  {
   "cell_type": "code",
   "execution_count": null,
   "metadata": {},
   "outputs": [],
   "source": []
  },
  {
   "cell_type": "markdown",
   "metadata": {},
   "source": [
    "### Logistic Regression"
   ]
  },
  {
   "cell_type": "code",
   "execution_count": null,
   "metadata": {},
   "outputs": [],
   "source": []
  }
 ],
 "metadata": {
  "kernelspec": {
   "display_name": "Python 3",
   "language": "python",
   "name": "python3"
  },
  "language_info": {
   "codemirror_mode": {
    "name": "ipython",
    "version": 3
   },
   "file_extension": ".py",
   "mimetype": "text/x-python",
   "name": "python",
   "nbconvert_exporter": "python",
   "pygments_lexer": "ipython3",
   "version": "3.7.3"
  },
  "varInspector": {
   "cols": {
    "lenName": 16,
    "lenType": 16,
    "lenVar": 40
   },
   "kernels_config": {
    "python": {
     "delete_cmd_postfix": "",
     "delete_cmd_prefix": "del ",
     "library": "var_list.py",
     "varRefreshCmd": "print(var_dic_list())"
    },
    "r": {
     "delete_cmd_postfix": ") ",
     "delete_cmd_prefix": "rm(",
     "library": "var_list.r",
     "varRefreshCmd": "cat(var_dic_list()) "
    }
   },
   "types_to_exclude": [
    "module",
    "function",
    "builtin_function_or_method",
    "instance",
    "_Feature"
   ],
   "window_display": false
  }
 },
 "nbformat": 4,
 "nbformat_minor": 2
}
