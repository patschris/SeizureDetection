{
 "cells": [
  {
   "cell_type": "code",
   "execution_count": null,
   "metadata": {},
   "outputs": [],
   "source": [
    "import os\n",
    "import pathlib\n",
    "import pyedflib\n",
    "import numpy as np\n",
    "import pandas as pd"
   ]
  },
  {
   "cell_type": "markdown",
   "metadata": {},
   "source": [
    "## EDF Files Manipulation"
   ]
  },
  {
   "cell_type": "markdown",
   "metadata": {},
   "source": [
    "### Read an edf file"
   ]
  },
  {
   "cell_type": "code",
   "execution_count": null,
   "metadata": {},
   "outputs": [],
   "source": [
    "'''\n",
    "https://stackoverflow.com/questions/48784257/convert-eye-tracking-edf-file-to-asc-csv-format\n",
    "https://pyedflib.readthedocs.io/en/latest/\n",
    "https://www.edfplus.info/specs/edf.html\n",
    "'''\n",
    "def readEdfFile(pathToFile):\n",
    "    f = pyedflib.EdfReader(pathToFile)\n",
    "    n = f.signals_in_file\n",
    "    signal_labels = f.getSignalLabels()\n",
    "    sigbufs = np.zeros((f.getNSamples()[0],n))\n",
    "    for i in np.arange(n):\n",
    "        sigbufs[:,i] = f.readSignal(i)\n",
    "    f._close()\n",
    "    del i,f,n,signal_labels\n",
    "    return sigbufs"
   ]
  },
  {
   "cell_type": "markdown",
   "metadata": {},
   "source": [
    "### Read an edf seizures file"
   ]
  },
  {
   "cell_type": "code",
   "execution_count": null,
   "metadata": {},
   "outputs": [],
   "source": [
    "'''\n",
    "https://www.mathworks.com/matlabcentral/answers/225716-how-i-can-read-chb01_03-edf-seizures-file-from-chb-mit-database-in-matlab-as-i-am-using-this-file-f\n",
    "Returns start time and length of the seizure\n",
    "'''\n",
    "def get_seizure_period(file_location):\n",
    "    bytes_array = []\n",
    "    for b in pathlib.Path(file_location).read_bytes(): bytes_array.append(b)\n",
    "    return int(str(bin(bytes_array[38]))[2:]+str(bin(bytes_array[41]))[2:],2), bytes_array[49]"
   ]
  },
  {
   "cell_type": "markdown",
   "metadata": {},
   "source": [
    "### Create dataframe from edf files"
   ]
  },
  {
   "cell_type": "code",
   "execution_count": null,
   "metadata": {},
   "outputs": [],
   "source": [
    "'''\n",
    "List of numpy array, each position contains a patient's array of data\n",
    "'''\n",
    "\n",
    "def read_and_store_data (dataset_folder, sample_rate) :\n",
    "    path = os.path.join(os.getcwd(), dataset_folder)\n",
    "    os.chdir(dataset_folder)\n",
    "    \n",
    "    patients = [d for d in os.listdir() if os.path.isdir(d)]\n",
    "    patients.sort()\n",
    "    \n",
    "    for p in patients:\n",
    "        os.chdir(p)\n",
    "        print('Reading data of patient', p)\n",
    "        l=[]\n",
    "        \n",
    "        # for each patient specify the edf files and the seizure files\n",
    "        edf = [f for f in os.listdir() if os.path.isfile(f) and f.endswith('edf')]\n",
    "        edf.sort()\n",
    "        seizures = [f for f in os.listdir() if os.path.isfile(f) and f.endswith('seizures')]\n",
    "        seizures.sort()\n",
    "\n",
    "        # edf files contain 23 columns/channels and a 24th column that indicates the seizure\n",
    "        arr = np.zeros((1,24))\n",
    "        for e in edf:\n",
    "            sigbufs = readEdfFile(e)\n",
    "            print('Reading data file', e, 'with', sigbufs.shape[0], 'records')\n",
    "            sigbufs = np.append(sigbufs, np.zeros((sigbufs.shape[0],1)), axis=1)\n",
    "            if seizures and seizures[0].startswith(e):\n",
    "                (start, length) = get_seizure_period(seizures[0])\n",
    "                print('Reading seizure file', seizures[0], ': (start =',start,'sec /',start*sample_rate,'records, length =',length,'sec /', (start+length)*sample_rate,'records)')\n",
    "                for i in range(start*sample_rate, (start+length)*sample_rate+1): sigbufs[i][23] = 1\n",
    "                seizures.pop(0)\n",
    "            arr = np.concatenate([arr, sigbufs])\n",
    "        arr = np.delete(arr, 22, axis=1)\n",
    "        l.append(arr)\n",
    "        os.chdir('..')\n",
    "    os.chdir('..')\n",
    "    print('')\n",
    "    del path, patients, p, edf, seizures, arr, e, sigbufs, start, length, i\n",
    "    \n",
    "    df = pd.DataFrame(np.concatenate(l), columns=['FP1-F7','F7-T7','T7-P7', 'P7-O1','FP1-F3', 'F3-C3', 'C3-P3', 'P3-O1', 'FP2-F4','F4-C4', 'C4-P4', 'P4-O2', 'FP2-F8', 'F8-T8', 'T8-P8', 'P8-O2','FZ-CZ', 'CZ-PZ', 'P7-T7', 'T7-FT9', 'FT9-FT10', 'FT10-T8', 'seizure'])\n",
    "    df.drop(0, inplace=True)\n",
    "    df.reset_index(drop=True, inplace=True)\n",
    "    return df"
   ]
  }
 ],
 "metadata": {
  "kernelspec": {
   "display_name": "Python 3",
   "language": "python",
   "name": "python3"
  },
  "language_info": {
   "codemirror_mode": {
    "name": "ipython",
    "version": 3
   },
   "file_extension": ".py",
   "mimetype": "text/x-python",
   "name": "python",
   "nbconvert_exporter": "python",
   "pygments_lexer": "ipython3",
   "version": "3.7.3"
  },
  "varInspector": {
   "cols": {
    "lenName": 16,
    "lenType": 16,
    "lenVar": 40
   },
   "kernels_config": {
    "python": {
     "delete_cmd_postfix": "",
     "delete_cmd_prefix": "del ",
     "library": "var_list.py",
     "varRefreshCmd": "print(var_dic_list())"
    },
    "r": {
     "delete_cmd_postfix": ") ",
     "delete_cmd_prefix": "rm(",
     "library": "var_list.r",
     "varRefreshCmd": "cat(var_dic_list()) "
    }
   },
   "types_to_exclude": [
    "module",
    "function",
    "builtin_function_or_method",
    "instance",
    "_Feature"
   ],
   "window_display": false
  }
 },
 "nbformat": 4,
 "nbformat_minor": 2
}
