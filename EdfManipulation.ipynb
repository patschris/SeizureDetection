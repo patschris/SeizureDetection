{
 "cells": [
  {
   "cell_type": "code",
   "execution_count": null,
   "metadata": {},
   "outputs": [],
   "source": [
    "import os\n",
    "import shutil\n",
    "import pathlib\n",
    "import pyedflib\n",
    "import numpy as np\n",
    "import pandas as pd\n",
    "from tqdm.notebook import tqdm"
   ]
  },
  {
   "cell_type": "markdown",
   "metadata": {},
   "source": [
    "## EDF Files Manipulation"
   ]
  },
  {
   "cell_type": "markdown",
   "metadata": {},
   "source": [
    "### Read an edf file"
   ]
  },
  {
   "cell_type": "code",
   "execution_count": null,
   "metadata": {},
   "outputs": [],
   "source": [
    "'''\n",
    "https://stackoverflow.com/questions/48784257/convert-eye-tracking-edf-file-to-asc-csv-format\n",
    "https://pyedflib.readthedocs.io/en/latest/\n",
    "https://www.edfplus.info/specs/edf.html\n",
    "'''\n",
    "def readEdfFile(pathToFile, channels):\n",
    "    f = pyedflib.EdfReader(pathToFile)\n",
    "    n = f.signals_in_file\n",
    "    signal_labels = f.getSignalLabels()\n",
    "    signal_labels.append('seizure')\n",
    "    sigbufs = np.zeros((f.getNSamples()[0],n+1))\n",
    "    for i in np.arange(n): sigbufs[:,i] = f.readSignal(i)\n",
    "    sigbufs[:, n]= 0.0\n",
    "    df =  pd.DataFrame(data = sigbufs, columns = signal_labels)\n",
    "    df = df.loc[:, channels]\n",
    "    df = df.loc[:, ~df.columns.duplicated()]\n",
    "    f._close()\n",
    "    return df.values"
   ]
  },
  {
   "cell_type": "markdown",
   "metadata": {},
   "source": [
    "### Read an edf seizures file"
   ]
  },
  {
   "cell_type": "code",
   "execution_count": null,
   "metadata": {},
   "outputs": [],
   "source": [
    "'''\n",
    "https://www.mathworks.com/matlabcentral/answers/225716-how-i-can-read-chb01_03-edf-seizures-file-from-chb-mit-database-in-matlab-as-i-am-using-this-file-f\n",
    "Returns start time and length of the seizure\n",
    "'''\n",
    "def get_seizure_period(file_location):\n",
    "    bytes_array = []\n",
    "    for b in pathlib.Path(file_location).read_bytes(): bytes_array.append(b)\n",
    "    return int(str(bin(bytes_array[38]))[2:]+str(bin(bytes_array[41]))[2:],2), bytes_array[49]"
   ]
  },
  {
   "cell_type": "markdown",
   "metadata": {},
   "source": [
    "### Create per patient csv"
   ]
  },
  {
   "cell_type": "code",
   "execution_count": null,
   "metadata": {},
   "outputs": [],
   "source": [
    "'''\n",
    "List of numpy array, each position contains a patient's array of data\n",
    "'''\n",
    "def create_per_patient_csv (dataset_folder, sample_rate, channels) :\n",
    "    initial_path = os.getcwd()\n",
    "    os.chdir(dataset_folder)\n",
    "    \n",
    "    patients = [d for d in os.listdir() if os.path.isdir(d) and d.startswith('chb')]\n",
    "    patients.sort()\n",
    "    for p in patients:\n",
    "        os.chdir(p)\n",
    "        print('Reading data of patient', p)\n",
    "        \n",
    "        # for each patient specify the edf files and the seizure files\n",
    "        edf = [f for f in os.listdir() if os.path.isfile(f) and f.endswith('edf')]\n",
    "        edf.sort()\n",
    "        seizures = [f for f in os.listdir() if os.path.isfile(f) and f.endswith('seizures')]\n",
    "        seizures.sort()\n",
    "        arr = np.array([], dtype=np.float64).reshape(0, len(channels))\n",
    "        for e in tqdm(edf):\n",
    "            sigbufs = readEdfFile(e, channels)\n",
    "            if seizures and seizures[0].startswith(e):\n",
    "                (start, length) = get_seizure_period(seizures[0])\n",
    "                for i in range(start*sample_rate, (start+length)*sample_rate+1): sigbufs[i][len(channels)-1] = 1.0\n",
    "                seizures.pop(0)\n",
    "            arr = np.concatenate([arr, sigbufs])\n",
    "        df = pd.DataFrame(arr, columns = channels)\n",
    "        df.to_csv(p+'.csv', index = False)\n",
    "        os.chdir('..')\n",
    "    os.chdir(initial_path)"
   ]
  },
  {
   "cell_type": "markdown",
   "metadata": {},
   "source": [
    "### Create dataframe from edf files"
   ]
  },
  {
   "cell_type": "code",
   "execution_count": null,
   "metadata": {},
   "outputs": [],
   "source": [
    "'''\n",
    "List of numpy array, each position contains a patient's array of data\n",
    "'''\n",
    "def read_and_store_data (dataset_folder, sample_rate, channels) :\n",
    "    initial_path = os.getcwd()\n",
    "    os.chdir(dataset_folder)\n",
    "    \n",
    "    patients = [d for d in os.listdir() if os.path.isdir(d) and d.startswith('chb')]\n",
    "    patients.sort()\n",
    "    arr = np.array([], dtype=np.float64).reshape(0, len(channels))\n",
    "    for p in patients:\n",
    "        os.chdir(p)\n",
    "        print('Reading data of patient', p)\n",
    "        \n",
    "        # for each patient specify the edf files and the seizure files\n",
    "        edf = [f for f in os.listdir() if os.path.isfile(f) and f.endswith('edf')]\n",
    "        edf.sort()\n",
    "        seizures = [f for f in os.listdir() if os.path.isfile(f) and f.endswith('seizures')]\n",
    "        seizures.sort()\n",
    "        for e in tqdm(edf):\n",
    "            sigbufs = readEdfFile(e, channels)\n",
    "            if seizures and seizures[0].startswith(e):\n",
    "                (start, length) = get_seizure_period(seizures[0])\n",
    "                for i in range(start*sample_rate, (start+length)*sample_rate+1): sigbufs[i][len(channels)-1] = 1.0\n",
    "                seizures.pop(0)\n",
    "        arr = np.concatenate([arr, sigbufs])\n",
    "        os.chdir('..')\n",
    "    os.chdir(initial_path)\n",
    "    \n",
    "    df = pd.DataFrame(arr, columns = channels)\n",
    "    df.reset_index(drop = True, inplace = True)\n",
    "    return df"
   ]
  }
 ],
 "metadata": {
  "kernelspec": {
   "display_name": "Python 3",
   "language": "python",
   "name": "python3"
  },
  "language_info": {
   "codemirror_mode": {
    "name": "ipython",
    "version": 3
   },
   "file_extension": ".py",
   "mimetype": "text/x-python",
   "name": "python",
   "nbconvert_exporter": "python",
   "pygments_lexer": "ipython3",
   "version": "3.7.3"
  },
  "varInspector": {
   "cols": {
    "lenName": 16,
    "lenType": 16,
    "lenVar": 40
   },
   "kernels_config": {
    "python": {
     "delete_cmd_postfix": "",
     "delete_cmd_prefix": "del ",
     "library": "var_list.py",
     "varRefreshCmd": "print(var_dic_list())"
    },
    "r": {
     "delete_cmd_postfix": ") ",
     "delete_cmd_prefix": "rm(",
     "library": "var_list.r",
     "varRefreshCmd": "cat(var_dic_list()) "
    }
   },
   "position": {
    "height": "271px",
    "left": "313px",
    "right": "20px",
    "top": "85px",
    "width": "405px"
   },
   "types_to_exclude": [
    "module",
    "function",
    "builtin_function_or_method",
    "instance",
    "_Feature"
   ],
   "window_display": false
  }
 },
 "nbformat": 4,
 "nbformat_minor": 2
}
