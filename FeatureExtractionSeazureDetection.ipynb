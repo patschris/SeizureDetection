{
 "cells": [
  {
   "cell_type": "code",
   "execution_count": null,
   "metadata": {},
   "outputs": [],
   "source": [
    "import numpy as np\n",
    "import pandas as pd\n",
    "import configparser \n",
    "from sklearn import utils"
   ]
  },
  {
   "cell_type": "code",
   "execution_count": null,
   "metadata": {},
   "outputs": [],
   "source": [
    "from ipynb.fs.full.ImportExportData import exportDataframeToCSV,importCsvToDataframe\n",
    "from ipynb.fs.full.EdfManipulation import read_and_store_data\n",
    "from ipynb.fs.full.ClassificationPerformanceIndexes import classificationPerformanceIndexes\n",
    "from ipynb.fs.full.FeatureClassificationMethods import SVM_Method, SVM_Kfold_Method, KNN_Method, KNN_Kfold_Method\n",
    "from ipynb.fs.full.FeatureComputation import leftRightHemisphericChannels, featureExtraction\n",
    "from ipynb.fs.full.FeatureNormalization import featureNormalization\n",
    "from ipynb.fs.full.FeatureSelection import dimentionalityReduction\n",
    "from ipynb.fs.full.DatasetBalancing import oversamplingSMOTE\n",
    "from ipynb.fs.full.SplitDataset import createTrainingAndTestDatasets"
   ]
  },
  {
   "cell_type": "markdown",
   "metadata": {},
   "source": [
    "## Main program"
   ]
  },
  {
   "cell_type": "markdown",
   "metadata": {},
   "source": [
    "### Parameters"
   ]
  },
  {
   "cell_type": "code",
   "execution_count": null,
   "metadata": {},
   "outputs": [],
   "source": [
    "config = configparser.ConfigParser()\n",
    "config.read('config.ini')"
   ]
  },
  {
   "cell_type": "code",
   "execution_count": null,
   "metadata": {},
   "outputs": [],
   "source": [
    "dataset = config['DATASET'].get('dataset')\n",
    "sample_rate = config['DATASET'].getint('sample_rate')\n",
    "time_window = config['DATASET'].getint('time_window')\n",
    "test_ratio = config['TRAINING'].getfloat('test_ratio')\n",
    "pca_tolerance = config['PCA'].getfloat('pca_tolerance')\n",
    "smote_neighbors = config['SMOTE'].getint('smote_neighbors')\n",
    "k_fold = config['CLASSIFICATION'].getint('k_fold')\n",
    "knn_neighbors = config['CLASSIFICATION'].getint('knn_neighbors')\n",
    "step = time_window*sample_rate"
   ]
  },
  {
   "cell_type": "markdown",
   "metadata": {},
   "source": [
    "### Seazure Detection Program"
   ]
  },
  {
   "cell_type": "code",
   "execution_count": null,
   "metadata": {},
   "outputs": [],
   "source": [
    "df = read_and_store_data(dataset, sample_rate)\n",
    "df = leftRightHemisphericChannels(df)\n",
    "features = pd.DataFrame(featureExtraction (df, sample_rate, step))\n",
    "del df\n",
    "features = featureNormalization(features)\n",
    "reduced_features = dimentionalityReduction(features, pca_tolerance)\n",
    "del features\n",
    "smote_features = utils.shuffle(oversamplingSMOTE(reduced_features.drop('seizure', axis = 1), reduced_features['seizure'], smote_neighbors))\n",
    "smote_features.reset_index(drop = True, inplace = True)\n",
    "del reduced_features\n",
    "\n",
    "train_dat, test_dat, train_ind, test_ind = createTrainingAndTestDatasets(smote_features, test_ratio)\n",
    "perfInd = ['Accuracy', 'Sensitivity', 'Specificity', 'Precision', 'F1 Score', 'MCC', 'Kappa']\n",
    "results = pd.DataFrame(columns=perfInd)\n",
    "\n",
    "#SVM\n",
    "SVM_Method(train_dat, train_ind, test_dat, test_ind, results)\n",
    "SVM_Kfold_Method(smote_features, k_fold, perfInd, results)\n",
    "\n",
    "#KNN\n",
    "KNN_Method(train_dat, train_ind, test_dat, test_ind, knn_neighbors, results)\n",
    "KNN_Kfold_Method(smote_features, knn_neighbors, k_fold, perfInd, results)"
   ]
  }
 ],
 "metadata": {
  "kernelspec": {
   "display_name": "Python 3",
   "language": "python",
   "name": "python3"
  },
  "language_info": {
   "codemirror_mode": {
    "name": "ipython",
    "version": 3
   },
   "file_extension": ".py",
   "mimetype": "text/x-python",
   "name": "python",
   "nbconvert_exporter": "python",
   "pygments_lexer": "ipython3",
   "version": "3.7.3"
  },
  "varInspector": {
   "cols": {
    "lenName": 16,
    "lenType": 16,
    "lenVar": 40
   },
   "kernels_config": {
    "python": {
     "delete_cmd_postfix": "",
     "delete_cmd_prefix": "del ",
     "library": "var_list.py",
     "varRefreshCmd": "print(var_dic_list())"
    },
    "r": {
     "delete_cmd_postfix": ") ",
     "delete_cmd_prefix": "rm(",
     "library": "var_list.r",
     "varRefreshCmd": "cat(var_dic_list()) "
    }
   },
   "oldHeight": 377,
   "position": {
    "height": "287px",
    "left": "1528px",
    "right": "20px",
    "top": "114px",
    "width": "376px"
   },
   "types_to_exclude": [
    "module",
    "function",
    "builtin_function_or_method",
    "instance",
    "_Feature"
   ],
   "varInspector_section_display": "block",
   "window_display": true
  }
 },
 "nbformat": 4,
 "nbformat_minor": 2
}
