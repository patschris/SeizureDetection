{
 "cells": [
  {
   "cell_type": "code",
   "execution_count": null,
   "metadata": {},
   "outputs": [],
   "source": [
    "import numpy as np\n",
    "import pandas as pd\n",
    "import configparser\n",
    "import tensorflow as tf\n",
    "from sklearn import model_selection, utils"
   ]
  },
  {
   "cell_type": "code",
   "execution_count": null,
   "metadata": {},
   "outputs": [],
   "source": [
    "from ipynb.fs.full.ImportExportData import exportDataframeToCSV,importCsvToDataframe\n",
    "from ipynb.fs.full.EdfManipulation import read_and_store_data\n",
    "from ipynb.fs.full.ClassificationPerformanceIndexes import classificationPerformanceIndexes\n",
    "from ipynb.fs.full.FeatureClassificationMethods import *\n",
    "from ipynb.fs.full.FeatureComputation import leftRightHemisphericChannels, featureExtraction\n",
    "from ipynb.fs.full.FeatureNormalization import featureNormalization\n",
    "from ipynb.fs.full.FeatureSelection import dimentionalityReduction\n",
    "from ipynb.fs.full.DatasetBalancing import oversamplingSMOTE\n",
    "from ipynb.fs.full.SplitDataset import createTrainingAndTestDatasets\n",
    "from ipynb.fs.full.SplitDataset import createTrainingAndTestDatasets"
   ]
  },
  {
   "cell_type": "markdown",
   "metadata": {},
   "source": [
    "## Main program"
   ]
  },
  {
   "cell_type": "markdown",
   "metadata": {},
   "source": [
    "### Parameters"
   ]
  },
  {
   "cell_type": "code",
   "execution_count": null,
   "metadata": {},
   "outputs": [],
   "source": [
    "config = configparser.ConfigParser()\n",
    "config.read('config.ini')"
   ]
  },
  {
   "cell_type": "code",
   "execution_count": null,
   "metadata": {},
   "outputs": [],
   "source": [
    "channels = config['DATASET'].getint('channels')\n",
    "dataset = config['DATASET'].get('dataset')\n",
    "sample_rate = config['DATASET'].getint('sample_rate')\n",
    "time_window = config['DATASET'].getint('time_window')\n",
    "test_ratio = config['TRAINING'].getfloat('test_ratio')\n",
    "pca_tolerance = config['PCA'].getfloat('pca_tolerance')\n",
    "smote_neighbors = config['SMOTE'].getint('smote_neighbors')\n",
    "k_fold = config['CLASSIFICATION'].getint('k_fold')\n",
    "knn_neighbors = config['CLASSIFICATION'].getint('knn_neighbors')\n",
    "rf_estimators = config['CLASSIFICATION'].getint('rf_estimators')\n",
    "step = time_window * sample_rate"
   ]
  },
  {
   "cell_type": "markdown",
   "metadata": {},
   "source": [
    "### Seazure Detection Program"
   ]
  },
  {
   "cell_type": "code",
   "execution_count": null,
   "metadata": {},
   "outputs": [],
   "source": [
    "'''\n",
    "df = read_and_store_data(dataset, sample_rate, channels)\n",
    "df = leftRightHemisphericChannels(df)\n",
    "features = pd.DataFrame(featureExtraction (df, sample_rate, step))\n",
    "del df\n",
    "features = featureNormalization(features)\n",
    "reduced_features = dimentionalityReduction(features, pca_tolerance)\n",
    "del features\n",
    "smote_features = utils.shuffle(oversamplingSMOTE(reduced_features.drop('seizure', axis = 1), reduced_features['seizure'], smote_neighbors))\n",
    "smote_features.reset_index(drop = True, inplace = True)\n",
    "del reduced_features\n",
    "'''\n",
    "fname = 'FeaturesTestData.csv'\n",
    "smote_features = importCsvToDataframe(fname)"
   ]
  },
  {
   "cell_type": "code",
   "execution_count": null,
   "metadata": {},
   "outputs": [],
   "source": [
    "train_dat, test_dat, train_ind, test_ind = createTrainingAndTestDatasets(smote_features, test_ratio)\n",
    "perfInd = ['Accuracy', 'Sensitivity', 'Specificity', 'Precision', 'F1 Score', 'MCC', 'Kappa']\n",
    "results = pd.DataFrame(columns=perfInd)\n",
    "kf = model_selection.KFold(n_splits = k_fold, shuffle=True)\n",
    "\n",
    "#SVM\n",
    "SVM(train_dat, train_ind, test_dat, test_ind, results)\n",
    "SVM_Kfold(smote_features, kf, perfInd, results)\n",
    "\n",
    "#KNN\n",
    "KNN(train_dat, train_ind, test_dat, test_ind, knn_neighbors, results)\n",
    "KNN_Kfold(smote_features, knn_neighbors, kf, perfInd, results)\n",
    "\n",
    "# Naive Bayes\n",
    "NaiveBayes(train_dat, train_ind, test_dat, test_ind, results)\n",
    "NaiveBayes_Kfold(smote_features, kf, perfInd, results)\n",
    "\n",
    "# Decision Trees\n",
    "DecisionTrees(train_dat, train_ind, test_dat, test_ind, results)\n",
    "DecisionTrees_Kfold(smote_features, kf, perfInd, results)\n",
    "\n",
    "# Random Forest\n",
    "RandomForest(train_dat, train_ind, test_dat, test_ind, rf_estimators, results)\n",
    "RandomForest_Kfold(smote_features, rf_estimators, kf, perfInd, results)\n",
    "\n",
    "# LDA\n",
    "LDA(train_dat, train_ind, test_dat, test_ind, results)\n",
    "LDA_Kfold(smote_features, kf, perfInd, results)\n",
    "\n",
    "# Logistic Regression\n",
    "LogisticRegression(train_dat, train_ind, test_dat, test_ind, results)\n",
    "LogisticRegression_Kfold(smote_features, kf, perfInd, results)"
   ]
  },
  {
   "cell_type": "code",
   "execution_count": null,
   "metadata": {
    "scrolled": true
   },
   "outputs": [],
   "source": [
    "results"
   ]
  }
 ],
 "metadata": {
  "kernelspec": {
   "display_name": "Python 3",
   "language": "python",
   "name": "python3"
  },
  "language_info": {
   "codemirror_mode": {
    "name": "ipython",
    "version": 3
   },
   "file_extension": ".py",
   "mimetype": "text/x-python",
   "name": "python",
   "nbconvert_exporter": "python",
   "pygments_lexer": "ipython3",
   "version": "3.7.4"
  },
  "varInspector": {
   "cols": {
    "lenName": 16,
    "lenType": 16,
    "lenVar": 40
   },
   "kernels_config": {
    "python": {
     "delete_cmd_postfix": "",
     "delete_cmd_prefix": "del ",
     "library": "var_list.py",
     "varRefreshCmd": "print(var_dic_list())"
    },
    "r": {
     "delete_cmd_postfix": ") ",
     "delete_cmd_prefix": "rm(",
     "library": "var_list.r",
     "varRefreshCmd": "cat(var_dic_list()) "
    }
   },
   "oldHeight": 377,
   "position": {
    "height": "287px",
    "left": "1528px",
    "right": "20px",
    "top": "114px",
    "width": "376px"
   },
   "types_to_exclude": [
    "module",
    "function",
    "builtin_function_or_method",
    "instance",
    "_Feature"
   ],
   "varInspector_section_display": "block",
   "window_display": true
  }
 },
 "nbformat": 4,
 "nbformat_minor": 2
}
