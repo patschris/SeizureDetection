{
 "cells": [
  {
   "cell_type": "code",
   "execution_count": null,
   "metadata": {},
   "outputs": [],
   "source": [
    "import os\n",
    "import pathlib\n",
    "import pyedflib\n",
    "import numpy as np\n",
    "import pandas as pd\n",
    "import scipy.stats as spst\n",
    "from pyentrp import entropy as ent\n",
    "import sklearn.metrics as metr"
   ]
  },
  {
   "cell_type": "markdown",
   "metadata": {},
   "source": [
    "## Experiment's parameters"
   ]
  },
  {
   "cell_type": "code",
   "execution_count": null,
   "metadata": {},
   "outputs": [],
   "source": [
    "# Should replan sample rate. No seizure happens.\n",
    "sample_rate = 256\n",
    "time_window = 5\n",
    "step = time_window*sample_rate"
   ]
  },
  {
   "cell_type": "markdown",
   "metadata": {},
   "source": [
    "## EDF Files Manipulation"
   ]
  },
  {
   "cell_type": "markdown",
   "metadata": {},
   "source": [
    "### Read an edf file"
   ]
  },
  {
   "cell_type": "code",
   "execution_count": null,
   "metadata": {},
   "outputs": [],
   "source": [
    "'''\n",
    "https://stackoverflow.com/questions/48784257/convert-eye-tracking-edf-file-to-asc-csv-format\n",
    "https://pyedflib.readthedocs.io/en/latest/\n",
    "https://www.edfplus.info/specs/edf.html\n",
    "'''\n",
    "def readEdfFile(pathToFile):\n",
    "    f = pyedflib.EdfReader(pathToFile)\n",
    "    n = f.signals_in_file\n",
    "    signal_labels = f.getSignalLabels()\n",
    "    sigbufs = np.zeros((f.getNSamples()[0],n))\n",
    "    for i in np.arange(n):\n",
    "        sigbufs[:,i] = f.readSignal(i)\n",
    "    f._close()\n",
    "    del i,f,n,signal_labels\n",
    "    return sigbufs"
   ]
  },
  {
   "cell_type": "markdown",
   "metadata": {},
   "source": [
    "### Read an edf seizures file"
   ]
  },
  {
   "cell_type": "code",
   "execution_count": null,
   "metadata": {},
   "outputs": [],
   "source": [
    "'''\n",
    "https://www.mathworks.com/matlabcentral/answers/225716-how-i-can-read-chb01_03-edf-seizures-file-from-chb-mit-database-in-matlab-as-i-am-using-this-file-f\n",
    "Returns start time and length of the seizure\n",
    "'''\n",
    "def get_seizure_period(file_location):\n",
    "    bytes_array = []\n",
    "    for b in pathlib.Path(file_location).read_bytes(): bytes_array.append(b)\n",
    "    return int(str(bin(bytes_array[38]))[2:]+str(bin(bytes_array[41]))[2:],2), bytes_array[49]"
   ]
  },
  {
   "cell_type": "markdown",
   "metadata": {},
   "source": [
    " "
   ]
  },
  {
   "cell_type": "markdown",
   "metadata": {},
   "source": [
    "## List of numpy array, each position contains a patient's array of data"
   ]
  },
  {
   "cell_type": "code",
   "execution_count": null,
   "metadata": {},
   "outputs": [],
   "source": [
    "def read_and_store_data (dataset_folder, sample_rate) :\n",
    "    path = os.path.join(os.getcwd(), dataset_folder)\n",
    "    os.chdir(dataset_folder)\n",
    "    \n",
    "    patients = [d for d in os.listdir() if os.path.isdir(d)]\n",
    "    patients.sort()\n",
    "    \n",
    "    for p in patients:\n",
    "        os.chdir(p)\n",
    "        print('Reading data of patient', p)\n",
    "        l=[]\n",
    "        \n",
    "        # for each patient specify the edf files and the seizure files\n",
    "        edf = [f for f in os.listdir() if os.path.isfile(f) and f.endswith('edf')]\n",
    "        edf.sort()\n",
    "        seizures = [f for f in os.listdir() if os.path.isfile(f) and f.endswith('seizures')]\n",
    "        seizures.sort()\n",
    "\n",
    "        # edf files contain 23 columns/channels and a 24th column that indicates the seizure\n",
    "        arr = np.zeros((1,24))\n",
    "        for e in edf:\n",
    "            sigbufs = readEdfFile(e)\n",
    "            print('Reading data file', e, 'with ', sigbufs.shape[0], 'records')\n",
    "            sigbufs = np.append(sigbufs, np.zeros((sigbufs.shape[0],1)), axis=1)\n",
    "            if seizures and seizures[0].startswith(e):\n",
    "                (start, length) = get_seizure_period(seizures[0])\n",
    "                print('Reading seizure file', seizures[0], ': (start =',start,'sec, length =',length,'sec) or', '(start =',start*sample_rate,'record, end =',(start+length)*sample_rate,'record)')\n",
    "                #print ('start =', start*sample_rate, ', end:', (start+length)*sample_rate)\n",
    "                for i in range(start*sample_rate, (start+length)*sample_rate+1): sigbufs[i][23] = 1\n",
    "                seizures.pop(0)\n",
    "            arr = np.concatenate([arr, sigbufs])\n",
    "        arr = np.delete(arr, 22, axis=1)\n",
    "        l.append(arr)\n",
    "        os.chdir('..')\n",
    "    os.chdir('..')\n",
    "    \n",
    "    del path, patients, p, edf, seizures, arr, e, sigbufs, start, length, i\n",
    "    \n",
    "    df = pd.DataFrame(np.concatenate(l), columns=['FP1-F7','F7-T7','T7-P7', 'P7-O1','FP1-F3', 'F3-C3', 'C3-P3', 'P3-O1', 'FP2-F4','F4-C4', 'C4-P4', 'P4-O2', 'FP2-F8', 'F8-T8', 'T8-P8', 'P8-O2','FZ-CZ', 'CZ-PZ', 'P7-T7', 'T7-FT9', 'FT9-FT10', 'FT10-T8', 'seizure'])\n",
    "    df.drop(0, inplace=True)\n",
    "    df.reset_index(drop=True, inplace=True)\n",
    "    return df"
   ]
  },
  {
   "cell_type": "markdown",
   "metadata": {},
   "source": [
    "## Read the data and store it to a dataframe"
   ]
  },
  {
   "cell_type": "code",
   "execution_count": null,
   "metadata": {
    "scrolled": false
   },
   "outputs": [],
   "source": [
    "df = read_and_store_data('TestData', sample_rate)\n",
    "#df = read_and_store_data('CHB-MIT-Dataset', sample_rate)"
   ]
  },
  {
   "cell_type": "markdown",
   "metadata": {},
   "source": [
    "## Feature Extraction"
   ]
  },
  {
   "cell_type": "markdown",
   "metadata": {},
   "source": [
    "### Left and Right Hemispheric Channel Information"
   ]
  },
  {
   "cell_type": "code",
   "execution_count": null,
   "metadata": {},
   "outputs": [],
   "source": [
    "ndf = pd.DataFrame()\n",
    "ndf['AvgLeftHemisphere'] = (df['F3-C3']+df['C3-P3'])/2\n",
    "ndf['AvgRightHemisphere'] = (df['F4-C4']+df['C4-P4'])/2\n",
    "ndf['seizure'] = df['seizure']\n",
    "del df"
   ]
  },
  {
   "cell_type": "markdown",
   "metadata": {},
   "source": [
    "### Time Domain Features"
   ]
  },
  {
   "cell_type": "code",
   "execution_count": null,
   "metadata": {},
   "outputs": [],
   "source": [
    "'''\n",
    "https://stackoverflow.com/questions/30272538/python-code-for-counting-number-of-zero-crossings-in-an-array\n",
    "https://stackoverflow.com/questions/5613244/root-mean-square-in-numpy-and-complications-of-matrix-and-arrays-of-numpy\n",
    "'''\n",
    "def ComputeTimeDomainFeatures(featvec, signal, count, tag):\n",
    "    features.loc[count, tag + 'mean'] = np.mean(signal)\n",
    "    features.loc[count, tag + 'var'] = np.var(signal)\n",
    "    features.loc[count, tag + 'skew'] = spst.skew(signal)\n",
    "    features.loc[count, tag + 'kurt'] = spst.kurtosis(signal)\n",
    "    features.loc[count, tag + 'std'] = np.std(signal)\n",
    "    features.loc[count, tag + 'median'] = np.median(signal)\n",
    "    features.loc[count, tag + 'zcr'] = ((signal[:-1] * signal[1:]) < 0).sum()\n",
    "    features.loc[count, tag + 'cv'] = spst.variation(signal)\n",
    "    features.loc[count, tag + 'rms'] = np.sqrt(signal.dot(signal)/signal.size)\n",
    "    features.loc[count, tag + 'p2p'] = signal.max() - signal.min()\n",
    "    features.loc[count, tag + 'SampEn'] = ent.sample_entropy(signal, 1)[0]"
   ]
  },
  {
   "cell_type": "markdown",
   "metadata": {},
   "source": [
    "### Correlation Features"
   ]
  },
  {
   "cell_type": "code",
   "execution_count": null,
   "metadata": {},
   "outputs": [],
   "source": [
    "def ComputeCorrelation (features, left, right, count):\n",
    "    features.loc[count, 'maxAbsCrossCorr'] = abs(np.correlate(left, right, 'full')).max()"
   ]
  },
  {
   "cell_type": "code",
   "execution_count": null,
   "metadata": {
    "scrolled": true
   },
   "outputs": [],
   "source": [
    "features = pd.DataFrame()\n",
    "count = 0\n",
    "for i in range (0, ndf.shape[0], step):\n",
    "    temp = ndf.iloc[i:i+step]\n",
    "    left = np.array(temp['AvgLeftHemisphere'])\n",
    "    right = np.array(temp['AvgRightHemisphere'])\n",
    "    \n",
    "    # Time Domain Features\n",
    "    ComputeTimeDomainFeatures(features, left, count, 'L')\n",
    "    ComputeTimeDomainFeatures(features, right, count, 'R')\n",
    "   \n",
    "    # Frequency Domain Features\n",
    "\n",
    "    features.loc[count, 'maxFreq'] = \n",
    "    \n",
    "    # Correlation Features\n",
    "    ComputeCorrelation(features, left, right, count)\n",
    "    \n",
    "    \n",
    "    features.loc[count, 'seizure'] = temp['seizure'].value_counts().idxmax()\n",
    "    count = count + 1"
   ]
  },
  {
   "cell_type": "markdown",
   "metadata": {},
   "source": [
    "## Classification performance indexes "
   ]
  },
  {
   "cell_type": "code",
   "execution_count": null,
   "metadata": {},
   "outputs": [],
   "source": [
    "'''\n",
    "TP : the number of segments that are correctly identified as ictal (x_true == x_pred == 1)\n",
    "TN : the number of EEG segments that are correctly classified as non-ictal (x_true == x_pred == 0)\n",
    "FP : the number of EEG segments that are incorrectly classified as ictal (x_true == 0 && x_pred == 1)\n",
    "FN : the segments that are incorrectly classified as non-ictal (x_true == 1 && x_pred == 0)\n",
    "'''\n",
    "def metrics (true_arr, pred_arr):\n",
    "    (tn, fp, fn, tp) = metr.confusion_matrix(true_arr, pred_arr).ravel()\n",
    "    acc = metr.accuracy_score(true_arr, pred_arr)\n",
    "    snv = tp/(tp + fn)                                          # Sensitivity or True Positive Rate (TPR)\n",
    "    spc = tn/(tn + fp)                                          # Specificity or True Negative Rate (TNR)\n",
    "    ppv = tp/(tp + fp)                                          # Precision or Positive Predictive Value (PPV)\n",
    "    f1 = metr.f1_score(true_arr, pred_arr)\n",
    "    mcc = metr.matthews_corrcoef(true_arr, pred_arr)\n",
    "    kappa = metr.cohen_kappa_score(true_arr, pred_arr)          # Cohen’s Kappa\n",
    "    return acc, snv, spc, ppv, f1, mcc, kappa"
   ]
  }
 ],
 "metadata": {
  "kernelspec": {
   "display_name": "Python 3",
   "language": "python",
   "name": "python3"
  },
  "language_info": {
   "codemirror_mode": {
    "name": "ipython",
    "version": 3
   },
   "file_extension": ".py",
   "mimetype": "text/x-python",
   "name": "python",
   "nbconvert_exporter": "python",
   "pygments_lexer": "ipython3",
   "version": "3.7.3"
  }
 },
 "nbformat": 4,
 "nbformat_minor": 2
}
